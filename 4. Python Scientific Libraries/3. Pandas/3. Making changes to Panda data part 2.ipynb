{
 "cells": [
  {
   "cell_type": "code",
   "execution_count": 1,
   "id": "b9faaaee",
   "metadata": {},
   "outputs": [],
   "source": [
    "import pandas as pd"
   ]
  },
  {
   "cell_type": "code",
   "execution_count": 2,
   "id": "e54a1ba5",
   "metadata": {},
   "outputs": [],
   "source": [
    "df = pd.read_csv('valve_cc_master.csv', sep=';')"
   ]
  },
  {
   "cell_type": "code",
   "execution_count": 3,
   "id": "fbbd5fda",
   "metadata": {},
   "outputs": [
    {
     "data": {
      "text/plain": [
       "Index(['SPECS', 'COMMODITY_CODE', 'PART_CODE', 'PART_CODE_SHORT',\n",
       "       'VALVE_VSL_VC', 'VALVE_SEAT_INSERT_VC', 'VALVE_SEAT_STEM_SEALS_VC',\n",
       "       'VALVE_ADDITIONAL_REQUIREME_VC', 'VALVE_SEAT_TYPE_VC',\n",
       "       'VALVE_MIN_TEMP_VC', 'VALVE_MAX_TEMP_VC', 'VALVE_BODY_MATERIAL_VC',\n",
       "       'VALVE_OBTURATOR_TYPE_VC', 'VALVE_CLASS_VC', 'VALVE_BODY_TYPE_VC',\n",
       "       'VALVE_TRIM_MATERIAL_VC', 'VALVE_SEAT_MATERIAL_VC',\n",
       "       'VALVE_END_CONNECTION_VC', 'NPS_SHORTS', 'PROJ_ID', 'FLUIDOS_LIST'],\n",
       "      dtype='object')"
      ]
     },
     "execution_count": 3,
     "metadata": {},
     "output_type": "execute_result"
    }
   ],
   "source": [
    "df.columns"
   ]
  },
  {
   "cell_type": "markdown",
   "id": "beb0b5f1",
   "metadata": {},
   "source": [
    "### Methods to make changes\n",
    "\n",
    "apply\n",
    "\n",
    "map\n",
    "\n",
    "applymap\n",
    "\n",
    "replace\n"
   ]
  },
  {
   "cell_type": "code",
   "execution_count": 4,
   "id": "1c0a96cd",
   "metadata": {},
   "outputs": [
    {
     "data": {
      "text/plain": [
       "0       FG, G, GL, P\n",
       "1       FG, G, GL, P\n",
       "2       FG, G, GL, P\n",
       "3       FG, G, GL, P\n",
       "4       FG, G, GL, P\n",
       "            ...     \n",
       "8121    FG, G, GL, P\n",
       "8122    FG, G, GL, P\n",
       "8123    FG, G, GL, P\n",
       "8124    FG, G, GL, P\n",
       "8125    FG, G, GL, P\n",
       "Name: FLUIDOS_LIST, Length: 8126, dtype: object"
      ]
     },
     "execution_count": 4,
     "metadata": {},
     "output_type": "execute_result"
    }
   ],
   "source": [
    "df['FLUIDOS_LIST']"
   ]
  },
  {
   "cell_type": "code",
   "execution_count": 5,
   "id": "2b69c33a",
   "metadata": {},
   "outputs": [
    {
     "data": {
      "text/plain": [
       "'FG, G, GL, P'"
      ]
     },
     "execution_count": 5,
     "metadata": {},
     "output_type": "execute_result"
    }
   ],
   "source": [
    "df['FLUIDOS_LIST'][0]"
   ]
  },
  {
   "cell_type": "code",
   "execution_count": 6,
   "id": "6869908a",
   "metadata": {},
   "outputs": [],
   "source": [
    "def split_fluids(string):\n",
    "    return string.split(',')"
   ]
  },
  {
   "cell_type": "code",
   "execution_count": 7,
   "id": "0bf3cf53",
   "metadata": {},
   "outputs": [
    {
     "data": {
      "text/plain": [
       "0       [FG,  G,  GL,  P]\n",
       "1       [FG,  G,  GL,  P]\n",
       "2       [FG,  G,  GL,  P]\n",
       "3       [FG,  G,  GL,  P]\n",
       "4       [FG,  G,  GL,  P]\n",
       "              ...        \n",
       "8121    [FG,  G,  GL,  P]\n",
       "8122    [FG,  G,  GL,  P]\n",
       "8123    [FG,  G,  GL,  P]\n",
       "8124    [FG,  G,  GL,  P]\n",
       "8125    [FG,  G,  GL,  P]\n",
       "Name: FLUIDOS_LIST, Length: 8126, dtype: object"
      ]
     },
     "execution_count": 7,
     "metadata": {},
     "output_type": "execute_result"
    }
   ],
   "source": [
    "df['FLUIDOS_LIST'] = df['FLUIDOS_LIST'].apply(split_fluids)\n",
    "df['FLUIDOS_LIST']"
   ]
  },
  {
   "cell_type": "code",
   "execution_count": 8,
   "id": "ee3b2ff5",
   "metadata": {},
   "outputs": [
    {
     "data": {
      "text/plain": [
       "['FG', ' G', ' GL', ' P']"
      ]
     },
     "execution_count": 8,
     "metadata": {},
     "output_type": "execute_result"
    }
   ],
   "source": [
    "df['FLUIDOS_LIST'][0]"
   ]
  },
  {
   "cell_type": "code",
   "execution_count": 9,
   "id": "58698912",
   "metadata": {},
   "outputs": [],
   "source": [
    "def split_diameters(string):\n",
    "    return list(set(string.split(',')))\n"
   ]
  },
  {
   "cell_type": "code",
   "execution_count": 10,
   "id": "4c178cbd",
   "metadata": {},
   "outputs": [
    {
     "data": {
      "text/plain": [
       "0       [ 16, 10,  6,  3,  12,  2,  20,  4,  8,  14,  ...\n",
       "1       [ 16, 10,  6,  3,  12,  2,  20,  4,  8,  14,  ...\n",
       "2       [ 16, 10,  6,  3,  12,  2,  20,  4,  8,  14,  ...\n",
       "3       [ 16, 10,  6,  3,  12,  2,  20,  4,  8,  14,  ...\n",
       "4       [ 16, 10,  6,  3,  12,  2,  20,  4,  8,  14,  ...\n",
       "                              ...                        \n",
       "8121                                                  [6]\n",
       "8122                                                  [8]\n",
       "8123                                                  [1]\n",
       "8124                                                  [1]\n",
       "8125                                                [1.5]\n",
       "Name: NPS_SHORTS, Length: 8126, dtype: object"
      ]
     },
     "execution_count": 10,
     "metadata": {},
     "output_type": "execute_result"
    }
   ],
   "source": [
    "df['NPS_SHORTS'] = df['NPS_SHORTS'].apply(split_diameters)\n",
    "df['NPS_SHORTS']"
   ]
  },
  {
   "cell_type": "markdown",
   "id": "bcb0653b",
   "metadata": {},
   "source": [
    "apply() works for series, but wont work for individual cells\n",
    "\n",
    "applymap() works for individual cells\n"
   ]
  },
  {
   "cell_type": "code",
   "execution_count": null,
   "id": "8fc30e0f",
   "metadata": {},
   "outputs": [],
   "source": []
  }
 ],
 "metadata": {
  "kernelspec": {
   "display_name": "Python 3",
   "language": "python",
   "name": "python3"
  },
  "language_info": {
   "codemirror_mode": {
    "name": "ipython",
    "version": 3
   },
   "file_extension": ".py",
   "mimetype": "text/x-python",
   "name": "python",
   "nbconvert_exporter": "python",
   "pygments_lexer": "ipython3",
   "version": "3.9.2"
  }
 },
 "nbformat": 4,
 "nbformat_minor": 5
}
