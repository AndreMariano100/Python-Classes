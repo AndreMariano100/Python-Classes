{
 "cells": [
  {
   "cell_type": "code",
   "execution_count": 1,
   "id": "3db4cd2b",
   "metadata": {},
   "outputs": [
    {
     "ename": "ModuleNotFoundError",
     "evalue": "No module named 'numpy'",
     "output_type": "error",
     "traceback": [
      "\u001b[1;31m---------------------------------------------------------------------------\u001b[0m",
      "\u001b[1;31mModuleNotFoundError\u001b[0m                       Traceback (most recent call last)",
      "\u001b[1;32m~\\AppData\\Local\\Temp/ipykernel_7764/3593848235.py\u001b[0m in \u001b[0;36m<module>\u001b[1;34m\u001b[0m\n\u001b[1;32m----> 1\u001b[1;33m \u001b[1;32mimport\u001b[0m \u001b[0mnumpy\u001b[0m \u001b[1;32mas\u001b[0m \u001b[0mnp\u001b[0m\u001b[1;33m\u001b[0m\u001b[1;33m\u001b[0m\u001b[0m\n\u001b[0m",
      "\u001b[1;31mModuleNotFoundError\u001b[0m: No module named 'numpy'"
     ]
    }
   ],
   "source": [
    "import numpy as np"
   ]
  },
  {
   "cell_type": "code",
   "execution_count": null,
   "id": "3ce5d2cd",
   "metadata": {},
   "outputs": [],
   "source": [
    "a = np.random.random(12)\n",
    "a"
   ]
  },
  {
   "cell_type": "code",
   "execution_count": null,
   "id": "8aaa4fca",
   "metadata": {},
   "outputs": [],
   "source": [
    "b = a.reshape(3, 4)\n",
    "b"
   ]
  },
  {
   "cell_type": "code",
   "execution_count": null,
   "id": "9960f221",
   "metadata": {},
   "outputs": [],
   "source": [
    "c = a.reshape(6, 2)\n",
    "c"
   ]
  },
  {
   "cell_type": "code",
   "execution_count": null,
   "id": "a2143c69",
   "metadata": {},
   "outputs": [],
   "source": [
    "d = c.reshape(4, 3)\n",
    "d"
   ]
  },
  {
   "cell_type": "markdown",
   "id": "de6016ac",
   "metadata": {},
   "source": [
    "Reshape return a new object.\n",
    "\n",
    "To change the object inplace use the 'shape' method."
   ]
  },
  {
   "cell_type": "code",
   "execution_count": null,
   "id": "3c4321d8",
   "metadata": {},
   "outputs": [],
   "source": [
    "a"
   ]
  },
  {
   "cell_type": "code",
   "execution_count": null,
   "id": "178c0477",
   "metadata": {},
   "outputs": [],
   "source": [
    "a.shape = (3, 4)\n",
    "a"
   ]
  },
  {
   "cell_type": "code",
   "execution_count": null,
   "id": "d39a4997",
   "metadata": {},
   "outputs": [],
   "source": [
    "a = a.reshape(4, 3)\n",
    "a"
   ]
  },
  {
   "cell_type": "code",
   "execution_count": null,
   "id": "9594e490",
   "metadata": {},
   "outputs": [],
   "source": [
    "b = a.flat\n",
    "b"
   ]
  },
  {
   "cell_type": "code",
   "execution_count": null,
   "id": "8ec68857",
   "metadata": {},
   "outputs": [],
   "source": [
    "a\n"
   ]
  },
  {
   "cell_type": "code",
   "execution_count": null,
   "id": "1f2432fb",
   "metadata": {},
   "outputs": [],
   "source": [
    "c = a.ravel()\n",
    "c"
   ]
  },
  {
   "cell_type": "code",
   "execution_count": null,
   "id": "95f30755",
   "metadata": {},
   "outputs": [],
   "source": [
    "a.shape = (12)\n",
    "a"
   ]
  },
  {
   "cell_type": "code",
   "execution_count": null,
   "id": "3210645f",
   "metadata": {},
   "outputs": [],
   "source": [
    "a.shape = (3, 4)\n",
    "a"
   ]
  },
  {
   "cell_type": "code",
   "execution_count": null,
   "id": "a027ae6a",
   "metadata": {},
   "outputs": [],
   "source": [
    "a.transpose()"
   ]
  },
  {
   "cell_type": "code",
   "execution_count": null,
   "id": "24277013",
   "metadata": {},
   "outputs": [],
   "source": []
  }
 ],
 "metadata": {
  "kernelspec": {
   "display_name": "Python 3 (ipykernel)",
   "language": "python",
   "name": "python3"
  },
  "language_info": {
   "codemirror_mode": {
    "name": "ipython",
    "version": 3
   },
   "file_extension": ".py",
   "mimetype": "text/x-python",
   "name": "python",
   "nbconvert_exporter": "python",
   "pygments_lexer": "ipython3",
   "version": "3.9.2"
  }
 },
 "nbformat": 4,
 "nbformat_minor": 5
}
