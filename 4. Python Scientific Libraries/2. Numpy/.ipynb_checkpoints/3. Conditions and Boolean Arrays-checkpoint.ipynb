{
 "cells": [
  {
   "cell_type": "code",
   "execution_count": 1,
   "id": "b486fae1",
   "metadata": {},
   "outputs": [],
   "source": [
    "import numpy as np"
   ]
  },
  {
   "cell_type": "code",
   "execution_count": 4,
   "id": "45065e54",
   "metadata": {},
   "outputs": [
    {
     "data": {
      "text/plain": [
       "array([[0.87693041, 0.66299337, 0.92338398, 0.70081316],\n",
       "       [0.96556835, 0.59068195, 0.1843996 , 0.77589144],\n",
       "       [0.40906663, 0.3162626 , 0.66504542, 0.16740538],\n",
       "       [0.20623116, 0.20410128, 0.96424959, 0.64824757]])"
      ]
     },
     "execution_count": 4,
     "metadata": {},
     "output_type": "execute_result"
    }
   ],
   "source": [
    "a = np.random.random((4, 4))\n",
    "a"
   ]
  },
  {
   "cell_type": "code",
   "execution_count": 5,
   "id": "5fc9c131",
   "metadata": {},
   "outputs": [
    {
     "data": {
      "text/plain": [
       "array([[False, False, False, False],\n",
       "       [False, False,  True, False],\n",
       "       [ True,  True, False,  True],\n",
       "       [ True,  True, False, False]])"
      ]
     },
     "execution_count": 5,
     "metadata": {},
     "output_type": "execute_result"
    }
   ],
   "source": [
    "a < 0.5"
   ]
  },
  {
   "cell_type": "code",
   "execution_count": 6,
   "id": "bc8b0f5a",
   "metadata": {},
   "outputs": [
    {
     "data": {
      "text/plain": [
       "array([0.1843996 , 0.40906663, 0.3162626 , 0.16740538, 0.20623116,\n",
       "       0.20410128])"
      ]
     },
     "execution_count": 6,
     "metadata": {},
     "output_type": "execute_result"
    }
   ],
   "source": [
    "a[a<0.5]"
   ]
  },
  {
   "cell_type": "markdown",
   "id": "d24c3801",
   "metadata": {},
   "source": [
    "Explicitly create a filter"
   ]
  },
  {
   "cell_type": "code",
   "execution_count": 8,
   "id": "ccfcf65c",
   "metadata": {},
   "outputs": [
    {
     "data": {
      "text/plain": [
       "array([[False, False, False, False],\n",
       "       [False, False,  True, False],\n",
       "       [ True,  True, False,  True],\n",
       "       [ True,  True, False, False]])"
      ]
     },
     "execution_count": 8,
     "metadata": {},
     "output_type": "execute_result"
    }
   ],
   "source": [
    "my_filter = a < 0.5\n",
    "my_filter"
   ]
  },
  {
   "cell_type": "code",
   "execution_count": 9,
   "id": "04638e64",
   "metadata": {},
   "outputs": [
    {
     "data": {
      "text/plain": [
       "array([0.1843996 , 0.40906663, 0.3162626 , 0.16740538, 0.20623116,\n",
       "       0.20410128])"
      ]
     },
     "execution_count": 9,
     "metadata": {},
     "output_type": "execute_result"
    }
   ],
   "source": [
    "a[my_filter]"
   ]
  },
  {
   "cell_type": "code",
   "execution_count": null,
   "id": "2d62c2ea",
   "metadata": {},
   "outputs": [],
   "source": []
  }
 ],
 "metadata": {
  "kernelspec": {
   "display_name": "Python 3 (ipykernel)",
   "language": "python",
   "name": "python3"
  },
  "language_info": {
   "codemirror_mode": {
    "name": "ipython",
    "version": 3
   },
   "file_extension": ".py",
   "mimetype": "text/x-python",
   "name": "python",
   "nbconvert_exporter": "python",
   "pygments_lexer": "ipython3",
   "version": "3.9.2"
  }
 },
 "nbformat": 4,
 "nbformat_minor": 5
}
