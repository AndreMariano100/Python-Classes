{
 "cells": [
  {
   "cell_type": "code",
   "execution_count": 1,
   "id": "e20d6c73",
   "metadata": {},
   "outputs": [],
   "source": [
    "import numpy as np"
   ]
  },
  {
   "cell_type": "code",
   "execution_count": 5,
   "id": "5f395eea",
   "metadata": {},
   "outputs": [
    {
     "data": {
      "text/plain": [
       "array([[9.69987915, 2.22956848, 2.53631207, 8.08291185, 2.58719377],\n",
       "       [8.67800959, 3.45200989, 6.52134781, 2.81032252, 8.85240455],\n",
       "       [5.00785812, 4.5392307 , 4.43570133, 0.43990879, 8.32905871],\n",
       "       [8.10297831, 9.13575101, 9.37458961, 6.9673043 , 0.06618017]])"
      ]
     },
     "execution_count": 5,
     "metadata": {},
     "output_type": "execute_result"
    }
   ],
   "source": [
    "data = 10*np.random.random((4, 5))\n",
    "data"
   ]
  },
  {
   "cell_type": "code",
   "execution_count": 6,
   "id": "06765c72",
   "metadata": {},
   "outputs": [],
   "source": [
    "np.save('result_data', data)"
   ]
  },
  {
   "cell_type": "markdown",
   "id": "81b8a60f",
   "metadata": {},
   "source": [
    "Will save the 'data' in the file 'result_data.npy'"
   ]
  },
  {
   "cell_type": "code",
   "execution_count": 10,
   "id": "e6359394",
   "metadata": {},
   "outputs": [
    {
     "data": {
      "text/plain": [
       "array([[9.69987915, 2.22956848, 2.53631207, 8.08291185, 2.58719377],\n",
       "       [8.67800959, 3.45200989, 6.52134781, 2.81032252, 8.85240455],\n",
       "       [5.00785812, 4.5392307 , 4.43570133, 0.43990879, 8.32905871],\n",
       "       [8.10297831, 9.13575101, 9.37458961, 6.9673043 , 0.06618017]])"
      ]
     },
     "execution_count": 10,
     "metadata": {},
     "output_type": "execute_result"
    }
   ],
   "source": [
    "loaded_data = np.load('result_data.npy')\n",
    "loaded_data"
   ]
  },
  {
   "cell_type": "code",
   "execution_count": 12,
   "id": "651e5593",
   "metadata": {},
   "outputs": [
    {
     "data": {
      "text/plain": [
       "array([(1., 123., 1.4, 23.), (2., 110., 0.5, 18.), (3., 164., 2.1, 19.)],\n",
       "      dtype=[('ID', '<f8'), ('Value1', '<f8'), ('Value2', '<f8'), ('Value3', '<f8')])"
      ]
     },
     "execution_count": 12,
     "metadata": {},
     "output_type": "execute_result"
    }
   ],
   "source": [
    "csv_data = np.genfromtxt('csv_data.csv', delimiter=',', names=True)\n",
    "csv_data"
   ]
  },
  {
   "cell_type": "code",
   "execution_count": 14,
   "id": "63e84f3f",
   "metadata": {},
   "outputs": [
    {
     "data": {
      "text/plain": [
       "array([(1., 123., 1.4, 23.), (2., 110., nan, 18.), (3.,  nan, 2.1, 19.)],\n",
       "      dtype=[('ID', '<f8'), ('Value1', '<f8'), ('Value2', '<f8'), ('Value3', '<f8')])"
      ]
     },
     "execution_count": 14,
     "metadata": {},
     "output_type": "execute_result"
    }
   ],
   "source": [
    "csv_data2 = np.genfromtxt('csv_data_2.csv', delimiter=',', names=True)\n",
    "csv_data2"
   ]
  },
  {
   "cell_type": "code",
   "execution_count": 15,
   "id": "39adab43",
   "metadata": {},
   "outputs": [
    {
     "data": {
      "text/plain": [
       "array([1., 2., 3.])"
      ]
     },
     "execution_count": 15,
     "metadata": {},
     "output_type": "execute_result"
    }
   ],
   "source": [
    "csv_data['ID']"
   ]
  },
  {
   "cell_type": "code",
   "execution_count": 16,
   "id": "df4f087a",
   "metadata": {},
   "outputs": [
    {
     "data": {
      "text/plain": [
       "array([123., 110., 164.])"
      ]
     },
     "execution_count": 16,
     "metadata": {},
     "output_type": "execute_result"
    }
   ],
   "source": [
    "csv_data['Value1']"
   ]
  },
  {
   "cell_type": "code",
   "execution_count": 17,
   "id": "6057fdf1",
   "metadata": {},
   "outputs": [
    {
     "data": {
      "text/plain": [
       "123.0"
      ]
     },
     "execution_count": 17,
     "metadata": {},
     "output_type": "execute_result"
    }
   ],
   "source": [
    "csv_data['Value1'][0]"
   ]
  },
  {
   "cell_type": "code",
   "execution_count": null,
   "id": "fed1ba72",
   "metadata": {},
   "outputs": [],
   "source": []
  }
 ],
 "metadata": {
  "kernelspec": {
   "display_name": "Python 3 (ipykernel)",
   "language": "python",
   "name": "python3"
  },
  "language_info": {
   "codemirror_mode": {
    "name": "ipython",
    "version": 3
   },
   "file_extension": ".py",
   "mimetype": "text/x-python",
   "name": "python",
   "nbconvert_exporter": "python",
   "pygments_lexer": "ipython3",
   "version": "3.9.2"
  }
 },
 "nbformat": 4,
 "nbformat_minor": 5
}
