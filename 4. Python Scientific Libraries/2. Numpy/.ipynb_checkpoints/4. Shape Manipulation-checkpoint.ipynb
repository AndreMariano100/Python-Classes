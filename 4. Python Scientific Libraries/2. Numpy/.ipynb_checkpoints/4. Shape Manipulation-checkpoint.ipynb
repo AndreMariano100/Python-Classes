{
 "cells": [
  {
   "cell_type": "code",
   "execution_count": 1,
   "id": "3db4cd2b",
   "metadata": {},
   "outputs": [],
   "source": [
    "import numpy as np"
   ]
  },
  {
   "cell_type": "code",
   "execution_count": 12,
   "id": "3ce5d2cd",
   "metadata": {},
   "outputs": [
    {
     "data": {
      "text/plain": [
       "array([0.78528484, 0.8578699 , 0.51095215, 0.13432243, 0.09938814,\n",
       "       0.63950782, 0.89511455, 0.89812376, 0.80905942, 0.78997041,\n",
       "       0.67184988, 0.03429252])"
      ]
     },
     "execution_count": 12,
     "metadata": {},
     "output_type": "execute_result"
    }
   ],
   "source": [
    "a = np.random.random(12)\n",
    "a"
   ]
  },
  {
   "cell_type": "code",
   "execution_count": 3,
   "id": "8aaa4fca",
   "metadata": {},
   "outputs": [
    {
     "data": {
      "text/plain": [
       "array([[0.16323696, 0.40113994, 0.01597632, 0.32912777],\n",
       "       [0.61021928, 0.24014395, 0.43498303, 0.07369093],\n",
       "       [0.75706754, 0.16744891, 0.96379147, 0.17937462]])"
      ]
     },
     "execution_count": 3,
     "metadata": {},
     "output_type": "execute_result"
    }
   ],
   "source": [
    "b = a.reshape(3, 4)\n",
    "b"
   ]
  },
  {
   "cell_type": "code",
   "execution_count": 5,
   "id": "9960f221",
   "metadata": {},
   "outputs": [
    {
     "data": {
      "text/plain": [
       "array([[0.16323696, 0.40113994],\n",
       "       [0.01597632, 0.32912777],\n",
       "       [0.61021928, 0.24014395],\n",
       "       [0.43498303, 0.07369093],\n",
       "       [0.75706754, 0.16744891],\n",
       "       [0.96379147, 0.17937462]])"
      ]
     },
     "execution_count": 5,
     "metadata": {},
     "output_type": "execute_result"
    }
   ],
   "source": [
    "c = a.reshape(6, 2)\n",
    "c"
   ]
  },
  {
   "cell_type": "code",
   "execution_count": 6,
   "id": "a2143c69",
   "metadata": {},
   "outputs": [
    {
     "data": {
      "text/plain": [
       "array([[0.16323696, 0.40113994, 0.01597632],\n",
       "       [0.32912777, 0.61021928, 0.24014395],\n",
       "       [0.43498303, 0.07369093, 0.75706754],\n",
       "       [0.16744891, 0.96379147, 0.17937462]])"
      ]
     },
     "execution_count": 6,
     "metadata": {},
     "output_type": "execute_result"
    }
   ],
   "source": [
    "d = c.reshape(4, 3)\n",
    "d"
   ]
  },
  {
   "cell_type": "markdown",
   "id": "de6016ac",
   "metadata": {},
   "source": [
    "Reshape return a new object.\n",
    "\n",
    "To change the object inplace use the 'shape' method."
   ]
  },
  {
   "cell_type": "code",
   "execution_count": 13,
   "id": "3c4321d8",
   "metadata": {},
   "outputs": [
    {
     "data": {
      "text/plain": [
       "array([0.78528484, 0.8578699 , 0.51095215, 0.13432243, 0.09938814,\n",
       "       0.63950782, 0.89511455, 0.89812376, 0.80905942, 0.78997041,\n",
       "       0.67184988, 0.03429252])"
      ]
     },
     "execution_count": 13,
     "metadata": {},
     "output_type": "execute_result"
    }
   ],
   "source": [
    "a"
   ]
  },
  {
   "cell_type": "code",
   "execution_count": 14,
   "id": "178c0477",
   "metadata": {},
   "outputs": [
    {
     "data": {
      "text/plain": [
       "array([[0.78528484, 0.8578699 , 0.51095215, 0.13432243],\n",
       "       [0.09938814, 0.63950782, 0.89511455, 0.89812376],\n",
       "       [0.80905942, 0.78997041, 0.67184988, 0.03429252]])"
      ]
     },
     "execution_count": 14,
     "metadata": {},
     "output_type": "execute_result"
    }
   ],
   "source": [
    "a.shape = (3, 4)\n",
    "a"
   ]
  },
  {
   "cell_type": "code",
   "execution_count": 15,
   "id": "d39a4997",
   "metadata": {},
   "outputs": [
    {
     "data": {
      "text/plain": [
       "array([[0.78528484, 0.8578699 , 0.51095215],\n",
       "       [0.13432243, 0.09938814, 0.63950782],\n",
       "       [0.89511455, 0.89812376, 0.80905942],\n",
       "       [0.78997041, 0.67184988, 0.03429252]])"
      ]
     },
     "execution_count": 15,
     "metadata": {},
     "output_type": "execute_result"
    }
   ],
   "source": [
    "a = a.reshape(4, 3)\n",
    "a"
   ]
  },
  {
   "cell_type": "code",
   "execution_count": 23,
   "id": "9594e490",
   "metadata": {},
   "outputs": [
    {
     "data": {
      "text/plain": [
       "<numpy.flatiter at 0x286b3430fe0>"
      ]
     },
     "execution_count": 23,
     "metadata": {},
     "output_type": "execute_result"
    }
   ],
   "source": [
    "b = a.flat\n",
    "b"
   ]
  },
  {
   "cell_type": "code",
   "execution_count": 22,
   "id": "1f2432fb",
   "metadata": {},
   "outputs": [
    {
     "data": {
      "text/plain": [
       "array([0.78528484, 0.8578699 , 0.51095215, 0.13432243, 0.09938814,\n",
       "       0.63950782, 0.89511455, 0.89812376, 0.80905942, 0.78997041,\n",
       "       0.67184988, 0.03429252])"
      ]
     },
     "execution_count": 22,
     "metadata": {},
     "output_type": "execute_result"
    }
   ],
   "source": [
    "c = a.ravel()\n",
    "c"
   ]
  },
  {
   "cell_type": "code",
   "execution_count": 25,
   "id": "95f30755",
   "metadata": {},
   "outputs": [
    {
     "data": {
      "text/plain": [
       "array([0.78528484, 0.8578699 , 0.51095215, 0.13432243, 0.09938814,\n",
       "       0.63950782, 0.89511455, 0.89812376, 0.80905942, 0.78997041,\n",
       "       0.67184988, 0.03429252])"
      ]
     },
     "execution_count": 25,
     "metadata": {},
     "output_type": "execute_result"
    }
   ],
   "source": [
    "a.shape = (12)\n",
    "a"
   ]
  },
  {
   "cell_type": "code",
   "execution_count": 26,
   "id": "3210645f",
   "metadata": {},
   "outputs": [
    {
     "data": {
      "text/plain": [
       "array([[0.78528484, 0.8578699 , 0.51095215, 0.13432243],\n",
       "       [0.09938814, 0.63950782, 0.89511455, 0.89812376],\n",
       "       [0.80905942, 0.78997041, 0.67184988, 0.03429252]])"
      ]
     },
     "execution_count": 26,
     "metadata": {},
     "output_type": "execute_result"
    }
   ],
   "source": [
    "a.shape = (3, 4)\n",
    "a"
   ]
  },
  {
   "cell_type": "code",
   "execution_count": 27,
   "id": "a027ae6a",
   "metadata": {},
   "outputs": [
    {
     "data": {
      "text/plain": [
       "array([[0.78528484, 0.09938814, 0.80905942],\n",
       "       [0.8578699 , 0.63950782, 0.78997041],\n",
       "       [0.51095215, 0.89511455, 0.67184988],\n",
       "       [0.13432243, 0.89812376, 0.03429252]])"
      ]
     },
     "execution_count": 27,
     "metadata": {},
     "output_type": "execute_result"
    }
   ],
   "source": [
    "a.transpose()"
   ]
  },
  {
   "cell_type": "code",
   "execution_count": null,
   "id": "24277013",
   "metadata": {},
   "outputs": [],
   "source": []
  }
 ],
 "metadata": {
  "kernelspec": {
   "display_name": "Python 3 (ipykernel)",
   "language": "python",
   "name": "python3"
  },
  "language_info": {
   "codemirror_mode": {
    "name": "ipython",
    "version": 3
   },
   "file_extension": ".py",
   "mimetype": "text/x-python",
   "name": "python",
   "nbconvert_exporter": "python",
   "pygments_lexer": "ipython3",
   "version": "3.9.2"
  }
 },
 "nbformat": 4,
 "nbformat_minor": 5
}
