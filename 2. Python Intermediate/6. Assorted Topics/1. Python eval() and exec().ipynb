{
 "cells": [
  {
   "attachments": {
    "image.png": {
     "image/png": "[encoded data removed]"
    }
   },
   "cell_type": "markdown",
   "id": "613e058a",
   "metadata": {},
   "source": [
    "![image.png](attachment:image.png)"
   ]
  },
  {
   "cell_type": "markdown",
   "id": "4d80e953",
   "metadata": {},
   "source": [
    "# EVAL and EXEC - Evaluating Expressions Dynamically\n",
    "\n",
    "***\n",
    "\n",
    "\n"
   ]
  },
  {
   "cell_type": "markdown",
   "id": "c21beadf",
   "metadata": {},
   "source": [
    "\n",
    "\n",
    "# Python eval()\n",
    "\n",
    "Python’s eval() allows you to evaluate arbitrary Python expressions from a string-based or compiled-code-based input. This function can be handy when you’re trying to dynamically evaluate Python expressions from any input that comes as a string or a compiled code object.\n",
    "\n",
    "Although Python’s eval() is an incredibly useful tool, the function has some important security implications that you should consider before using it. In this tutorial, you’ll learn how eval() works and how to use it safely and effectively in your Python programs."
   ]
  },
  {
   "cell_type": "markdown",
   "id": "931f417e",
   "metadata": {},
   "source": [
    "## General Expression:\n",
    "\n",
    "`eval(expression[, globals[, locals]])`\n"
   ]
  },
  {
   "cell_type": "markdown",
   "id": "e5467602",
   "metadata": {},
   "source": [
    "## The First Argument - expression"
   ]
  },
  {
   "cell_type": "code",
   "execution_count": null,
   "id": "1158e07d",
   "metadata": {},
   "outputs": [],
   "source": [
    "eval('2 * 8')"
   ]
  },
  {
   "cell_type": "code",
   "execution_count": null,
   "id": "aa0bde03",
   "metadata": {},
   "outputs": [],
   "source": [
    "eval('1024 + 1024')"
   ]
  },
  {
   "cell_type": "code",
   "execution_count": null,
   "id": "7405bbc6",
   "metadata": {},
   "outputs": [],
   "source": [
    "x = 100\n",
    "eval('x**2')"
   ]
  },
  {
   "cell_type": "code",
   "execution_count": null,
   "id": "7d4e79b7",
   "metadata": {},
   "outputs": [],
   "source": [
    "number_1 = '2'\n",
    "number_2 = '3'\n",
    "operation = '*'\n",
    "result = eval(f'{number_1}{operation}{number_2}')\n",
    "result"
   ]
  },
  {
   "cell_type": "markdown",
   "id": "82e76807",
   "metadata": {},
   "source": [
    "### Expressions\n",
    "\n",
    "\n",
    "A piece of syntax which can be evaluated to some value. In other words, an expression is an accumulation of expression elements like literals, names, attribute access, operators or function calls which all return a value. In contrast to many other languages, not all language constructs are expressions. There are also statements which cannot be used as expressions, such as while. Assignments are also statements, not expressions.\n",
    "\n",
    "### Statements\n",
    "\n",
    "A statement is part of a suite (a “block” of code). A statement is either an expression or one of several constructs with a keyword, such as if, while or for.\n"
   ]
  },
  {
   "cell_type": "code",
   "execution_count": null,
   "id": "ae365bad",
   "metadata": {},
   "outputs": [],
   "source": [
    "x = 100\n",
    "eval('if x: print(x)')"
   ]
  },
  {
   "cell_type": "markdown",
   "id": "2f184fd1",
   "metadata": {},
   "source": [
    "eval() only accepts expressions.\n",
    "\n",
    "Any other statement, such as if, for, while, import, def, or class, will raise an error.\n"
   ]
  },
  {
   "cell_type": "code",
   "execution_count": null,
   "id": "438383cc",
   "metadata": {},
   "outputs": [],
   "source": [
    "eval('pi = 3.1416')"
   ]
  },
  {
   "cell_type": "markdown",
   "id": "82684c08",
   "metadata": {},
   "source": [
    "Assignment operations aren't valid either"
   ]
  },
  {
   "cell_type": "code",
   "execution_count": null,
   "id": "ecc1dbf7",
   "metadata": {},
   "outputs": [],
   "source": [
    "eval('5 + 6 * ')"
   ]
  },
  {
   "cell_type": "markdown",
   "id": "33f9b07a",
   "metadata": {},
   "source": [
    "You can't violate python syntax."
   ]
  },
  {
   "cell_type": "markdown",
   "id": "8197ce3c",
   "metadata": {},
   "source": [
    "## The second argument - globals"
   ]
  },
  {
   "cell_type": "code",
   "execution_count": null,
   "id": "8550144e",
   "metadata": {},
   "outputs": [],
   "source": [
    "x = 100\n",
    "eval('x+100')"
   ]
  },
  {
   "cell_type": "code",
   "execution_count": null,
   "id": "66229e13",
   "metadata": {},
   "outputs": [],
   "source": [
    "y = 200\n",
    "eval('x+y')"
   ]
  },
  {
   "cell_type": "code",
   "execution_count": null,
   "id": "95a52f89",
   "metadata": {},
   "outputs": [],
   "source": [
    "base_number = 100\n",
    "exponent = 2"
   ]
  },
  {
   "cell_type": "code",
   "execution_count": null,
   "id": "6ec8d913",
   "metadata": {},
   "outputs": [],
   "source": [
    "eval('x**y', {'x': base_number, 'y': exponent})"
   ]
  },
  {
   "cell_type": "markdown",
   "id": "eaa73dd6",
   "metadata": {},
   "source": [
    "## The third argument - locals"
   ]
  },
  {
   "cell_type": "code",
   "execution_count": null,
   "id": "e58d8b3a",
   "metadata": {},
   "outputs": [],
   "source": [
    "x = 100\n",
    "y = 2"
   ]
  },
  {
   "cell_type": "code",
   "execution_count": null,
   "id": "e21ed9e6",
   "metadata": {},
   "outputs": [],
   "source": [
    "eval('x**y',{}, {'x': x, 'y': y})"
   ]
  },
  {
   "cell_type": "markdown",
   "id": "f51b36f4",
   "metadata": {},
   "source": [
    "## An example"
   ]
  },
  {
   "cell_type": "code",
   "execution_count": null,
   "id": "5bce1d47",
   "metadata": {},
   "outputs": [],
   "source": [
    "def function(a, b, condition):\n",
    "    if eval(condition):\n",
    "        return a+b\n",
    "    return a-b\n"
   ]
  },
  {
   "cell_type": "code",
   "execution_count": null,
   "id": "676c5164",
   "metadata": {},
   "outputs": [],
   "source": [
    "function(2, 4, 'a>b')"
   ]
  },
  {
   "cell_type": "code",
   "execution_count": null,
   "id": "422759cb",
   "metadata": {},
   "outputs": [],
   "source": [
    "function(2, 4, 'a<b')"
   ]
  },
  {
   "cell_type": "code",
   "execution_count": null,
   "id": "a0c6e7ff",
   "metadata": {},
   "outputs": [],
   "source": [
    "function(2, 2, 'a is b')"
   ]
  },
  {
   "cell_type": "markdown",
   "id": "c685cb52",
   "metadata": {},
   "source": [
    "\n",
    "\n",
    "## Security Issues\n",
    "\n",
    "Although it has an almost unlimited number of uses, Python’s eval() also has important security implications. eval() is considered insecure because it allows you (or your users) to dynamically execute arbitrary Python code.\n",
    "\n",
    "This is considered bad programming practice because the code that you’re reading (or writing) is not the code that you’ll execute. If you’re planning to use eval() to evaluate input from a user or any other external source, then you won’t know for sure what code is going to be executed. That’s a serious security risk if your application runs in the wrong hands.\n",
    "\n",
    "For this reason, good programming practices generally recommend against using eval(). But if you choose to use the function anyway, then the rule of thumb is to never ever use it with untrusted input. The tricky part of this rule is figuring out which kinds of input you can trust.\n",
    "\n",
    "As an example of how using eval() irresponsibly can make your code insecure, suppose you want to build an online service for evaluating arbitrary Python expressions. Your user will introduce expressions and then click the Run button. The application will get the user’s input and pass it to eval() for evaluation.\n",
    "\n",
    "This application will run on your personal server. Yes, the same server where you have all those valuable files. If you’re running a Linux box and the application’s process has the right permissions, then a malicious user could introduce a dangerous string like the following:\n",
    "\n",
    "\"__import__('subprocess').getoutput('rm –rf *')\"\n",
    "\n",
    "The above code would delete all the files in the application’s current directory. That would be awful, wouldn’t it?\n",
    "\n",
    "When the input is untrusted, there’s no completely effective way to avoid the security risks associated with eval(). However, you can minimize your risk by restricting the execution environment of eval()."
   ]
  },
  {
   "cell_type": "markdown",
   "id": "1c2b3760",
   "metadata": {},
   "source": [
    "## Python exec()\n",
    "\n",
    "The exec() method executes the dynamically created program, which is either a string or a code object.\n",
    "\n",
    "exec(object, globals, locals)"
   ]
  },
  {
   "cell_type": "code",
   "execution_count": null,
   "id": "378e5d54",
   "metadata": {},
   "outputs": [],
   "source": [
    "x = 10\n",
    "x"
   ]
  },
  {
   "cell_type": "code",
   "execution_count": null,
   "id": "a8b3d77a",
   "metadata": {},
   "outputs": [],
   "source": [
    "antecessor = eval('x-1')"
   ]
  },
  {
   "cell_type": "code",
   "execution_count": null,
   "id": "9a0a8b7b",
   "metadata": {},
   "outputs": [],
   "source": [
    "antecessor"
   ]
  },
  {
   "cell_type": "code",
   "execution_count": null,
   "id": "aea3f573",
   "metadata": {},
   "outputs": [],
   "source": [
    "exec('successor = x+1')"
   ]
  },
  {
   "cell_type": "code",
   "execution_count": null,
   "id": "87362265",
   "metadata": {},
   "outputs": [],
   "source": [
    "successor"
   ]
  }
 ],
 "metadata": {
  "kernelspec": {
   "display_name": "Python 3 (ipykernel)",
   "language": "python",
   "name": "python3"
  },
  "language_info": {
   "codemirror_mode": {
    "name": "ipython",
    "version": 3
   },
   "file_extension": ".py",
   "mimetype": "text/x-python",
   "name": "python",
   "nbconvert_exporter": "python",
   "pygments_lexer": "ipython3",
   "version": "3.9.7"
  }
 },
 "nbformat": 4,
 "nbformat_minor": 5
}
