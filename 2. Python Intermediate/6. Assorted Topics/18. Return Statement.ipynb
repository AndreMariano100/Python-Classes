{
 "cells": [
  {
   "cell_type": "code",
   "execution_count": 7,
   "id": "c8859e1d",
   "metadata": {},
   "outputs": [],
   "source": [
    "# https://realpython.com/python-return-statement/#getting-started-with-python-functions\n",
    "\n",
    "def return_42():\n",
    "    return 42"
   ]
  },
  {
   "cell_type": "code",
   "execution_count": 9,
   "id": "80abfb59",
   "metadata": {},
   "outputs": [
    {
     "data": {
      "text/plain": [
       "42"
      ]
     },
     "execution_count": 9,
     "metadata": {},
     "output_type": "execute_result"
    }
   ],
   "source": [
    "num = return_42()\n",
    "num"
   ]
  },
  {
   "cell_type": "code",
   "execution_count": 10,
   "id": "de75a720",
   "metadata": {},
   "outputs": [
    {
     "data": {
      "text/plain": [
       "84"
      ]
     },
     "execution_count": 10,
     "metadata": {},
     "output_type": "execute_result"
    }
   ],
   "source": [
    "return_42() * 2"
   ]
  },
  {
   "cell_type": "code",
   "execution_count": 11,
   "id": "fd74c634",
   "metadata": {},
   "outputs": [
    {
     "data": {
      "text/plain": [
       "47"
      ]
     },
     "execution_count": 11,
     "metadata": {},
     "output_type": "execute_result"
    }
   ],
   "source": [
    "return_42() + 5"
   ]
  },
  {
   "cell_type": "code",
   "execution_count": 12,
   "id": "f139967f",
   "metadata": {},
   "outputs": [
    {
     "ename": "SyntaxError",
     "evalue": "'return' outside function (<ipython-input-12-7f56514c404a>, line 1)",
     "output_type": "error",
     "traceback": [
      "\u001b[1;36m  File \u001b[1;32m\"<ipython-input-12-7f56514c404a>\"\u001b[1;36m, line \u001b[1;32m1\u001b[0m\n\u001b[1;33m    return 42\u001b[0m\n\u001b[1;37m    ^\u001b[0m\n\u001b[1;31mSyntaxError\u001b[0m\u001b[1;31m:\u001b[0m 'return' outside function\n"
     ]
    }
   ],
   "source": [
    "return 42"
   ]
  },
  {
   "cell_type": "code",
   "execution_count": 13,
   "id": "7de04b50",
   "metadata": {},
   "outputs": [],
   "source": [
    "def get_even(numbers):\n",
    "    even_nums = [num for num in numbers if not num % 2]\n",
    "    return even_nums"
   ]
  },
  {
   "cell_type": "code",
   "execution_count": 14,
   "id": "11f2968d",
   "metadata": {},
   "outputs": [
    {
     "data": {
      "text/plain": [
       "[2, 4, 6]"
      ]
     },
     "execution_count": 14,
     "metadata": {},
     "output_type": "execute_result"
    }
   ],
   "source": [
    "get_even([1, 2, 3, 4, 5, 6])\n"
   ]
  },
  {
   "cell_type": "code",
   "execution_count": 15,
   "id": "5f1e5e87",
   "metadata": {},
   "outputs": [],
   "source": [
    "def mean(sample):\n",
    "    return sum(sample) / len(sample)"
   ]
  },
  {
   "cell_type": "code",
   "execution_count": 16,
   "id": "a1741232",
   "metadata": {},
   "outputs": [
    {
     "data": {
      "text/plain": [
       "2.5"
      ]
     },
     "execution_count": 16,
     "metadata": {},
     "output_type": "execute_result"
    }
   ],
   "source": [
    "mean([1, 2, 3, 4])"
   ]
  },
  {
   "cell_type": "code",
   "execution_count": 17,
   "id": "7fdcd533",
   "metadata": {},
   "outputs": [],
   "source": [
    "def add_one(x):\n",
    "    result = x + 1"
   ]
  },
  {
   "cell_type": "code",
   "execution_count": 18,
   "id": "213da134",
   "metadata": {},
   "outputs": [
    {
     "name": "stdout",
     "output_type": "stream",
     "text": [
      "None\n"
     ]
    }
   ],
   "source": [
    "value = add_one(5)\n",
    "print(value)"
   ]
  },
  {
   "cell_type": "code",
   "execution_count": 19,
   "id": "ea5b8abe",
   "metadata": {},
   "outputs": [
    {
     "name": "stdout",
     "output_type": "stream",
     "text": [
      "Hello, World\n"
     ]
    }
   ],
   "source": [
    "return_value = print(\"Hello, World\")"
   ]
  },
  {
   "cell_type": "code",
   "execution_count": 20,
   "id": "ac7d0681",
   "metadata": {},
   "outputs": [
    {
     "name": "stdout",
     "output_type": "stream",
     "text": [
      "None\n"
     ]
    }
   ],
   "source": [
    "print(return_value)"
   ]
  },
  {
   "cell_type": "code",
   "execution_count": 21,
   "id": "f55dbd55",
   "metadata": {},
   "outputs": [
    {
     "name": "stdout",
     "output_type": "stream",
     "text": [
      "Hello, World\n"
     ]
    }
   ],
   "source": [
    "def print_greeting():\n",
    "    print(\"Hello, World\")\n",
    "    \n",
    "print_greeting()"
   ]
  },
  {
   "cell_type": "code",
   "execution_count": 24,
   "id": "d0e52d3d",
   "metadata": {},
   "outputs": [
    {
     "data": {
      "text/plain": [
       "'Hello, World'"
      ]
     },
     "execution_count": 24,
     "metadata": {},
     "output_type": "execute_result"
    }
   ],
   "source": [
    "def return_greeting():\n",
    "    return \"Hello, World\"\n",
    "return_greeting()"
   ]
  },
  {
   "cell_type": "code",
   "execution_count": 25,
   "id": "996806b2",
   "metadata": {},
   "outputs": [],
   "source": [
    "def print_42():\n",
    "    print(42)"
   ]
  },
  {
   "cell_type": "code",
   "execution_count": 26,
   "id": "3b815868",
   "metadata": {},
   "outputs": [
    {
     "name": "stdout",
     "output_type": "stream",
     "text": [
      "42\n"
     ]
    }
   ],
   "source": [
    " print_42()"
   ]
  },
  {
   "cell_type": "code",
   "execution_count": 27,
   "id": "7fca4597",
   "metadata": {},
   "outputs": [
    {
     "data": {
      "text/plain": [
       "42"
      ]
     },
     "execution_count": 27,
     "metadata": {},
     "output_type": "execute_result"
    }
   ],
   "source": [
    "def return_42():\n",
    "    return 42\n",
    "\n",
    "return_42()"
   ]
  },
  {
   "cell_type": "code",
   "execution_count": 28,
   "id": "2c610511",
   "metadata": {},
   "outputs": [],
   "source": [
    "def add(a, b):\n",
    "    result = a + b\n",
    "    return result"
   ]
  },
  {
   "cell_type": "code",
   "execution_count": 29,
   "id": "1270bf93",
   "metadata": {},
   "outputs": [
    {
     "data": {
      "text/plain": [
       "4"
      ]
     },
     "execution_count": 29,
     "metadata": {},
     "output_type": "execute_result"
    }
   ],
   "source": [
    "add(2, 2)"
   ]
  },
  {
   "cell_type": "code",
   "execution_count": 30,
   "id": "c8257c5c",
   "metadata": {},
   "outputs": [
    {
     "data": {
      "text/plain": [
       "6.5"
      ]
     },
     "execution_count": 30,
     "metadata": {},
     "output_type": "execute_result"
    }
   ],
   "source": [
    "import statistics as st\n",
    "\n",
    "def describe(sample):\n",
    "    return st.mean(sample), st.median(sample), st.mode(sample)\n",
    "\n",
    "sample = [10, 2, 4, 7, 9, 3, 9, 8, 6, 7]\n",
    "mean, median, mode = describe(sample)\n",
    "\n",
    "mean"
   ]
  },
  {
   "cell_type": "code",
   "execution_count": 31,
   "id": "9efe6627",
   "metadata": {},
   "outputs": [
    {
     "data": {
      "text/plain": [
       "7.0"
      ]
     },
     "execution_count": 31,
     "metadata": {},
     "output_type": "execute_result"
    }
   ],
   "source": [
    "median"
   ]
  },
  {
   "cell_type": "code",
   "execution_count": 32,
   "id": "cf16140c",
   "metadata": {},
   "outputs": [
    {
     "data": {
      "text/plain": [
       "7"
      ]
     },
     "execution_count": 32,
     "metadata": {},
     "output_type": "execute_result"
    }
   ],
   "source": [
    "mode"
   ]
  },
  {
   "cell_type": "code",
   "execution_count": 33,
   "id": "41bd29ac",
   "metadata": {},
   "outputs": [
    {
     "data": {
      "text/plain": [
       "(6.5, 7.0, 7)"
      ]
     },
     "execution_count": 33,
     "metadata": {},
     "output_type": "execute_result"
    }
   ],
   "source": [
    "desc = describe(sample)\n",
    "desc"
   ]
  },
  {
   "cell_type": "code",
   "execution_count": 34,
   "id": "2fe5e550",
   "metadata": {},
   "outputs": [
    {
     "data": {
      "text/plain": [
       "tuple"
      ]
     },
     "execution_count": 34,
     "metadata": {},
     "output_type": "execute_result"
    }
   ],
   "source": [
    "type(desc)"
   ]
  },
  {
   "cell_type": "code",
   "execution_count": 35,
   "id": "b31e6e1a",
   "metadata": {},
   "outputs": [
    {
     "data": {
      "text/plain": [
       "(5, 0)"
      ]
     },
     "execution_count": 35,
     "metadata": {},
     "output_type": "execute_result"
    }
   ],
   "source": [
    "divmod(15, 3)"
   ]
  },
  {
   "cell_type": "code",
   "execution_count": 36,
   "id": "37b77e41",
   "metadata": {},
   "outputs": [
    {
     "data": {
      "text/plain": [
       "(2, 2)"
      ]
     },
     "execution_count": 36,
     "metadata": {},
     "output_type": "execute_result"
    }
   ],
   "source": [
    "divmod(8, 3)"
   ]
  },
  {
   "cell_type": "code",
   "execution_count": 37,
   "id": "3cb1bc68",
   "metadata": {},
   "outputs": [],
   "source": [
    "def omit_return_stmt():\n",
    "    pass"
   ]
  },
  {
   "cell_type": "code",
   "execution_count": 38,
   "id": "109f08a5",
   "metadata": {},
   "outputs": [
    {
     "name": "stdout",
     "output_type": "stream",
     "text": [
      "None\n"
     ]
    }
   ],
   "source": [
    "print(omit_return_stmt())"
   ]
  },
  {
   "cell_type": "code",
   "execution_count": 39,
   "id": "7f4a22e1",
   "metadata": {},
   "outputs": [],
   "source": [
    "def bare_return():\n",
    "    return"
   ]
  },
  {
   "cell_type": "code",
   "execution_count": 40,
   "id": "2e96dd1f",
   "metadata": {},
   "outputs": [
    {
     "name": "stdout",
     "output_type": "stream",
     "text": [
      "None\n"
     ]
    }
   ],
   "source": [
    "print(bare_return())"
   ]
  },
  {
   "cell_type": "code",
   "execution_count": 41,
   "id": "5250cb5a",
   "metadata": {},
   "outputs": [],
   "source": [
    "def return_none_explicitly():\n",
    "    return None"
   ]
  },
  {
   "cell_type": "code",
   "execution_count": 42,
   "id": "a24347c3",
   "metadata": {},
   "outputs": [
    {
     "name": "stdout",
     "output_type": "stream",
     "text": [
      "None\n"
     ]
    }
   ],
   "source": [
    "print(return_none_explicitly())"
   ]
  },
  {
   "cell_type": "code",
   "execution_count": 43,
   "id": "4c64a6e0",
   "metadata": {},
   "outputs": [],
   "source": [
    "def template_func(args):\n",
    "    result = 0  # Initialize the return value\n",
    "    # Your code goes here...\n",
    "    return result  # Explicitly return the result"
   ]
  },
  {
   "cell_type": "code",
   "execution_count": 44,
   "id": "b198b661",
   "metadata": {},
   "outputs": [
    {
     "data": {
      "text/plain": [
       "5.24"
      ]
     },
     "execution_count": 44,
     "metadata": {},
     "output_type": "execute_result"
    }
   ],
   "source": [
    "#bad programming practice\n",
    "#using complex expressions\n",
    "\n",
    "def variance(data, ddof=0):\n",
    "    mean = sum(data) / len(data)\n",
    "    return sum((x - mean) ** 2 for x in data) / (len(data) - ddof)\n",
    "    \n",
    "variance([3, 4, 7, 5, 6, 2, 9, 4, 1, 3])"
   ]
  },
  {
   "cell_type": "code",
   "execution_count": 45,
   "id": "50d3cbf5",
   "metadata": {},
   "outputs": [
    {
     "data": {
      "text/plain": [
       "5.24"
      ]
     },
     "execution_count": 45,
     "metadata": {},
     "output_type": "execute_result"
    }
   ],
   "source": [
    "# using temporary variables like n, mean, and total_square_dev\n",
    "\n",
    "def variance(data, ddof=0):\n",
    "    n = len(data)\n",
    "    mean = sum(data) / n\n",
    "    total_square_dev = sum((x - mean) ** 2 for x in data)\n",
    "    return total_square_dev / (n - ddof)\n",
    "\n",
    "variance([3, 4, 7, 5, 6, 2, 9, 4, 1, 3])"
   ]
  },
  {
   "cell_type": "code",
   "execution_count": 46,
   "id": "2c4d6d39",
   "metadata": {},
   "outputs": [
    {
     "data": {
      "text/plain": [
       "1"
      ]
     },
     "execution_count": 46,
     "metadata": {},
     "output_type": "execute_result"
    }
   ],
   "source": [
    "#bad programming practice changing global\n",
    "\n",
    "counter = 0\n",
    "\n",
    "def increment():\n",
    "    global counter\n",
    "    counter += 1\n",
    "    \n",
    "increment()\n",
    "counter"
   ]
  },
  {
   "cell_type": "code",
   "execution_count": 47,
   "id": "f8764714",
   "metadata": {},
   "outputs": [
    {
     "data": {
      "text/plain": [
       "1"
      ]
     },
     "execution_count": 47,
     "metadata": {},
     "output_type": "execute_result"
    }
   ],
   "source": [
    "# self-contained increment()\n",
    "\n",
    "counter = 0\n",
    "\n",
    "def increment(var):\n",
    "    return var + 1\n",
    "\n",
    "increment(counter)   "
   ]
  },
  {
   "cell_type": "code",
   "execution_count": 48,
   "id": "66df3239",
   "metadata": {},
   "outputs": [
    {
     "data": {
      "text/plain": [
       "0"
      ]
     },
     "execution_count": 48,
     "metadata": {},
     "output_type": "execute_result"
    }
   ],
   "source": [
    "counter"
   ]
  },
  {
   "cell_type": "code",
   "execution_count": 49,
   "id": "5c23d2ec",
   "metadata": {},
   "outputs": [
    {
     "data": {
      "text/plain": [
       "1"
      ]
     },
     "execution_count": 49,
     "metadata": {},
     "output_type": "execute_result"
    }
   ],
   "source": [
    "# Explicitly assign a new value to counter\n",
    "\n",
    "counter = increment(counter)\n",
    "counter"
   ]
  },
  {
   "cell_type": "code",
   "execution_count": 50,
   "id": "b2d2a9bf",
   "metadata": {},
   "outputs": [
    {
     "data": {
      "text/plain": [
       "15"
      ]
     },
     "execution_count": 50,
     "metadata": {},
     "output_type": "execute_result"
    }
   ],
   "source": [
    "# Using return With Conditionals\n",
    "\n",
    "def my_abs(number):\n",
    "    if number > 0:\n",
    "        return number\n",
    "    elif number < 0:\n",
    "        return -number\n",
    "\n",
    "my_abs(-15)"
   ]
  },
  {
   "cell_type": "code",
   "execution_count": 51,
   "id": "05a359b0",
   "metadata": {},
   "outputs": [
    {
     "data": {
      "text/plain": [
       "15"
      ]
     },
     "execution_count": 51,
     "metadata": {},
     "output_type": "execute_result"
    }
   ],
   "source": [
    "my_abs(15)"
   ]
  },
  {
   "cell_type": "code",
   "execution_count": 52,
   "id": "bd09f0cf",
   "metadata": {},
   "outputs": [
    {
     "name": "stdout",
     "output_type": "stream",
     "text": [
      "None\n"
     ]
    }
   ],
   "source": [
    "print(my_abs(0))"
   ]
  },
  {
   "cell_type": "code",
   "execution_count": 53,
   "id": "82a969bc",
   "metadata": {},
   "outputs": [
    {
     "data": {
      "text/plain": [
       "0"
      ]
     },
     "execution_count": 53,
     "metadata": {},
     "output_type": "execute_result"
    }
   ],
   "source": [
    "def my_abs(number):\n",
    "    if number > 0:\n",
    "        return number\n",
    "    elif number < 0:\n",
    "        return -number\n",
    "    else:\n",
    "        return 0\n",
    "\n",
    "my_abs(0)    "
   ]
  },
  {
   "cell_type": "code",
   "execution_count": 54,
   "id": "90abf7e8",
   "metadata": {},
   "outputs": [
    {
     "data": {
      "text/plain": [
       "0"
      ]
     },
     "execution_count": 54,
     "metadata": {},
     "output_type": "execute_result"
    }
   ],
   "source": [
    "# Pythonic way\n",
    "\n",
    "def my_abs(number):\n",
    "    if number < 0:\n",
    "        return -number\n",
    "    return number\n",
    "my_abs(0)"
   ]
  },
  {
   "cell_type": "code",
   "execution_count": 55,
   "id": "66bc904d",
   "metadata": {},
   "outputs": [
    {
     "data": {
      "text/plain": [
       "False"
      ]
     },
     "execution_count": 55,
     "metadata": {},
     "output_type": "execute_result"
    }
   ],
   "source": [
    "# Returning True or False\n",
    "\n",
    "def is_divisible(a, b):\n",
    "    if not a % b:\n",
    "        return True\n",
    "    return False\n",
    "\n",
    "is_divisible(4, 2)\n",
    "\n",
    "is_divisible(7, 4)"
   ]
  },
  {
   "cell_type": "code",
   "execution_count": 56,
   "id": "63323d49",
   "metadata": {},
   "outputs": [
    {
     "data": {
      "text/plain": [
       "True"
      ]
     },
     "execution_count": 56,
     "metadata": {},
     "output_type": "execute_result"
    }
   ],
   "source": [
    "is_divisible(4, 2)"
   ]
  },
  {
   "cell_type": "code",
   "execution_count": 57,
   "id": "7aec39dc",
   "metadata": {},
   "outputs": [
    {
     "data": {
      "text/plain": [
       "True"
      ]
     },
     "execution_count": 57,
     "metadata": {},
     "output_type": "execute_result"
    }
   ],
   "source": [
    "#The Boolean operator not\n",
    "\n",
    "def is_divisible(a, b):\n",
    "    return not a % b\n",
    "\n",
    "is_divisible(4, 2)"
   ]
  },
  {
   "cell_type": "code",
   "execution_count": 66,
   "id": "078fe828",
   "metadata": {},
   "outputs": [
    {
     "data": {
      "text/plain": [
       "0"
      ]
     },
     "execution_count": 66,
     "metadata": {},
     "output_type": "execute_result"
    }
   ],
   "source": [
    "#  or and and won’t work correctly.\n",
    "\n",
    "1 and 0"
   ]
  },
  {
   "cell_type": "code",
   "execution_count": 65,
   "id": "f36cad81",
   "metadata": {
    "scrolled": true
   },
   "outputs": [
    {
     "data": {
      "text/plain": [
       "9"
      ]
     },
     "execution_count": 65,
     "metadata": {},
     "output_type": "execute_result"
    }
   ],
   "source": [
    "87 and 9"
   ]
  },
  {
   "cell_type": "code",
   "execution_count": 60,
   "id": "085520c0",
   "metadata": {},
   "outputs": [
    {
     "data": {
      "text/plain": [
       "1"
      ]
     },
     "execution_count": 60,
     "metadata": {},
     "output_type": "execute_result"
    }
   ],
   "source": [
    "1 or 2"
   ]
  },
  {
   "cell_type": "code",
   "execution_count": 68,
   "id": "80422faa",
   "metadata": {},
   "outputs": [
    {
     "data": {
      "text/plain": [
       "1"
      ]
     },
     "execution_count": 68,
     "metadata": {},
     "output_type": "execute_result"
    }
   ],
   "source": [
    "0 or 1"
   ]
  },
  {
   "cell_type": "code",
   "execution_count": 69,
   "id": "d8323460",
   "metadata": {},
   "outputs": [
    {
     "data": {
      "text/plain": [
       "2"
      ]
     },
     "execution_count": 69,
     "metadata": {},
     "output_type": "execute_result"
    }
   ],
   "source": [
    "#In general, and returns the first false operand or the last operand\n",
    "\n",
    "def both_true(a, b):\n",
    "    return a and b\n",
    "\n",
    "both_true(1, 2)"
   ]
  },
  {
   "cell_type": "code",
   "execution_count": 70,
   "id": "7b8d3e64",
   "metadata": {},
   "outputs": [
    {
     "data": {
      "text/plain": [
       "1"
      ]
     },
     "execution_count": 70,
     "metadata": {},
     "output_type": "execute_result"
    }
   ],
   "source": [
    "both_true(2, 1)"
   ]
  },
  {
   "cell_type": "code",
   "execution_count": 71,
   "id": "9ce978b6",
   "metadata": {},
   "outputs": [
    {
     "data": {
      "text/plain": [
       "True"
      ]
     },
     "execution_count": 71,
     "metadata": {},
     "output_type": "execute_result"
    }
   ],
   "source": [
    "def both_true(a, b):\n",
    "    if a and b:\n",
    "        return True\n",
    "    return False\n",
    "\n",
    "both_true(1, 1)"
   ]
  },
  {
   "cell_type": "code",
   "execution_count": 72,
   "id": "27c6f4e1",
   "metadata": {},
   "outputs": [
    {
     "data": {
      "text/plain": [
       "False"
      ]
     },
     "execution_count": 72,
     "metadata": {},
     "output_type": "execute_result"
    }
   ],
   "source": [
    "#only zero is false?\n",
    "\n",
    "both_true(0, 2)"
   ]
  },
  {
   "cell_type": "code",
   "execution_count": 73,
   "id": "3831dca0",
   "metadata": {},
   "outputs": [
    {
     "data": {
      "text/plain": [
       "True"
      ]
     },
     "execution_count": 73,
     "metadata": {},
     "output_type": "execute_result"
    }
   ],
   "source": [
    "def both_true(a, b):\n",
    "    return True if a and b else False\n",
    "both_true(1, 2)"
   ]
  },
  {
   "cell_type": "code",
   "execution_count": 74,
   "id": "bee20a8a",
   "metadata": {},
   "outputs": [
    {
     "data": {
      "text/plain": [
       "True"
      ]
     },
     "execution_count": 74,
     "metadata": {},
     "output_type": "execute_result"
    }
   ],
   "source": [
    "def both_true(a, b):\n",
    "    return bool(a and b)\n",
    "\n",
    "both_true(1, 2)"
   ]
  },
  {
   "cell_type": "code",
   "execution_count": 75,
   "id": "0c88481f",
   "metadata": {},
   "outputs": [
    {
     "data": {
      "text/plain": [
       "True"
      ]
     },
     "execution_count": 75,
     "metadata": {},
     "output_type": "execute_result"
    }
   ],
   "source": [
    "#Short-Circuiting Loops\n",
    "\n",
    "def my_any(iterable):\n",
    "    for item in iterable:\n",
    "        if item:\n",
    "            # Short-circuit\n",
    "            return True\n",
    "    return False\n",
    "\n",
    "my_any([0, 0, 1, 0, 0])"
   ]
  },
  {
   "cell_type": "code",
   "execution_count": 76,
   "id": "4172564d",
   "metadata": {},
   "outputs": [
    {
     "data": {
      "text/plain": [
       "False"
      ]
     },
     "execution_count": 76,
     "metadata": {},
     "output_type": "execute_result"
    }
   ],
   "source": [
    "my_any([0, 0, 0, 0, 0])"
   ]
  },
  {
   "cell_type": "code",
   "execution_count": 77,
   "id": "bf94ed4d",
   "metadata": {},
   "outputs": [
    {
     "data": {
      "text/plain": [
       "42"
      ]
     },
     "execution_count": 77,
     "metadata": {},
     "output_type": "execute_result"
    }
   ],
   "source": [
    "def dead_code():\n",
    "    return 42\n",
    "    # Dead code\n",
    "    print(\"Hello, World\")\n",
    "    \n",
    "dead_code()"
   ]
  },
  {
   "cell_type": "code",
   "execution_count": 78,
   "id": "1bd6b7b4",
   "metadata": {},
   "outputs": [
    {
     "data": {
      "text/plain": [
       "42"
      ]
     },
     "execution_count": 78,
     "metadata": {},
     "output_type": "execute_result"
    }
   ],
   "source": [
    "def no_dead_code(condition):\n",
    "    if condition:\n",
    "        return 42\n",
    "    print(\"Hello, World\")\n",
    "    \n",
    "no_dead_code(True)"
   ]
  },
  {
   "cell_type": "code",
   "execution_count": 79,
   "id": "bc14795a",
   "metadata": {},
   "outputs": [
    {
     "name": "stdout",
     "output_type": "stream",
     "text": [
      "Hello, World\n"
     ]
    }
   ],
   "source": [
    "no_dead_code(False)"
   ]
  },
  {
   "cell_type": "code",
   "execution_count": 80,
   "id": "80334061",
   "metadata": {},
   "outputs": [
    {
     "data": {
      "text/plain": [
       "Desc(mean=6.5, median=7.0, mode=7)"
      ]
     },
     "execution_count": 80,
     "metadata": {},
     "output_type": "execute_result"
    }
   ],
   "source": [
    "# Returning Multiple Named-Objects\n",
    "\n",
    "import statistics as st\n",
    "from collections import namedtuple\n",
    "\n",
    "def describe(sample):\n",
    "    Desc = namedtuple(\"Desc\", [\"mean\", \"median\", \"mode\"])\n",
    "    return Desc(\n",
    "        st.mean(sample),\n",
    "        st.median(sample),\n",
    "        st.mode(sample),\n",
    "    )\n",
    "\n",
    "sample = [10, 2, 4, 7, 9, 3, 9, 8, 6, 7]\n",
    "stat_desc = describe(sample)\n",
    "\n",
    "stat_desc"
   ]
  },
  {
   "cell_type": "code",
   "execution_count": null,
   "id": "a20f5894",
   "metadata": {},
   "outputs": [],
   "source": [
    "# Get the mean by its attribute name\n",
    "\n",
    "stat_desc.mean"
   ]
  },
  {
   "cell_type": "code",
   "execution_count": null,
   "id": "26d464be",
   "metadata": {},
   "outputs": [],
   "source": [
    "# Get the median by its index\n",
    "\n",
    "stat_desc[1]"
   ]
  },
  {
   "cell_type": "code",
   "execution_count": null,
   "id": "5b440bf5",
   "metadata": {},
   "outputs": [],
   "source": [
    "# Unpack the values into three variables\n",
    "\n",
    "mean, median, mode = describe(sample)\n",
    "\n",
    "mean"
   ]
  },
  {
   "cell_type": "code",
   "execution_count": null,
   "id": "3b09fa95",
   "metadata": {},
   "outputs": [],
   "source": [
    "mode"
   ]
  },
  {
   "cell_type": "code",
   "execution_count": null,
   "id": "e7e4ca8f",
   "metadata": {},
   "outputs": [],
   "source": [
    "#def by_factor(factor, number):\n",
    "    #return factor * number"
   ]
  },
  {
   "cell_type": "code",
   "execution_count": null,
   "id": "df5a26f3",
   "metadata": {},
   "outputs": [],
   "source": [
    "def by_factor(factor):\n",
    "    def multiply(number):\n",
    "        return factor * number\n",
    "    return multiply\n",
    "\n",
    "double = by_factor(2)\n",
    "double(3)"
   ]
  },
  {
   "cell_type": "code",
   "execution_count": null,
   "id": "bb661b58",
   "metadata": {},
   "outputs": [],
   "source": [
    "double(4)"
   ]
  },
  {
   "cell_type": "code",
   "execution_count": null,
   "id": "0d484d31",
   "metadata": {},
   "outputs": [],
   "source": [
    "triple = by_factor(3)"
   ]
  },
  {
   "cell_type": "code",
   "execution_count": null,
   "id": "9e772933",
   "metadata": {},
   "outputs": [],
   "source": [
    "triple(3)"
   ]
  },
  {
   "cell_type": "code",
   "execution_count": null,
   "id": "8adc7e75",
   "metadata": {},
   "outputs": [],
   "source": [
    "triple(4)"
   ]
  },
  {
   "cell_type": "code",
   "execution_count": null,
   "id": "4c759878",
   "metadata": {},
   "outputs": [],
   "source": [
    "def by_factor(factor):\n",
    "    return lambda number: factor * number"
   ]
  },
  {
   "cell_type": "code",
   "execution_count": null,
   "id": "a6e4b55f",
   "metadata": {},
   "outputs": [],
   "source": [
    "double = by_factor(2)"
   ]
  },
  {
   "cell_type": "code",
   "execution_count": null,
   "id": "7d459d94",
   "metadata": {},
   "outputs": [],
   "source": [
    "double(3)"
   ]
  },
  {
   "cell_type": "code",
   "execution_count": null,
   "id": "85728caa",
   "metadata": {},
   "outputs": [],
   "source": [
    "double(4)"
   ]
  },
  {
   "cell_type": "code",
   "execution_count": null,
   "id": "b8a2c99d",
   "metadata": {},
   "outputs": [],
   "source": [
    "#decorator functions\n",
    "\n",
    "import time\n",
    "\n",
    "def my_timer(func):\n",
    "    def _timer(*args, **kwargs):\n",
    "        start = time.time()\n",
    "        result = func(*args, **kwargs)\n",
    "        end = time.time()\n",
    "        print(f\"Execution time: {end - start}\")\n",
    "        return result\n",
    "    return _timer\n",
    "\n",
    "@my_timer\n",
    "def delayed_mean(sample):\n",
    "    time.sleep(1)\n",
    "    return sum(sample) / len(sample)\n",
    "\n",
    "delayed_mean([10, 2, 4, 7, 9, 3, 9, 8, 6, 7])\n",
    "\n",
    "\n",
    "\n",
    "\n",
    "\n",
    "\n",
    "    "
   ]
  },
  {
   "cell_type": "code",
   "execution_count": null,
   "id": "317a5c47",
   "metadata": {},
   "outputs": [],
   "source": [
    "class Circle:\n",
    "    def __init__(self, radius):\n",
    "        self.radius = radius\n",
    "\n",
    "    \n",
    "    \n",
    "class Square:\n",
    "    def __init__(self, side):\n",
    "        self.side = side\n",
    "    \n",
    "    \n",
    "def shape_factory(shape_name, *args, **kwargs):\n",
    "    shapes = {\"circle\": Circle, \"square\": Square}\n",
    "    return shapes[shape_name](*args, **kwargs)\n",
    "\n",
    "circle = shape_factory(\"circle\", radius=20)\n",
    "type(circle)\n",
    "<class '__main__.Circle'>\n",
    "circle.radius\n"
   ]
  },
  {
   "cell_type": "code",
   "execution_count": null,
   "id": "1aef022d",
   "metadata": {},
   "outputs": [],
   "source": []
  }
 ],
 "metadata": {
  "kernelspec": {
   "display_name": "Python 3",
   "language": "python",
   "name": "python3"
  },
  "language_info": {
   "codemirror_mode": {
    "name": "ipython",
    "version": 3
   },
   "file_extension": ".py",
   "mimetype": "text/x-python",
   "name": "python",
   "nbconvert_exporter": "python",
   "pygments_lexer": "ipython3",
   "version": "3.9.2"
  }
 },
 "nbformat": 4,
 "nbformat_minor": 5
}
