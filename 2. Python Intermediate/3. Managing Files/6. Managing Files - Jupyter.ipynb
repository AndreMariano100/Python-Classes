{
 "cells": [
  {
   "cell_type": "markdown",
   "id": "23408fe0",
   "metadata": {},
   "source": [
    "# Managing Files and Directories in Python"
   ]
  },
  {
   "cell_type": "markdown",
   "id": "eea1e854",
   "metadata": {},
   "source": [
    "Python has several built-in modules and functions for handling files.\n",
    "\n",
    "These functions are spread out over several modules such as os, os.path, shutil, and pathlib, to name a few."
   ]
  },
  {
   "cell_type": "markdown",
   "id": "e389cd16",
   "metadata": {},
   "source": [
    "## Setup"
   ]
  },
  {
   "cell_type": "markdown",
   "id": "8e2710f2",
   "metadata": {},
   "source": [
    "Importing libraries"
   ]
  },
  {
   "cell_type": "code",
   "execution_count": 5,
   "id": "376fe4f4",
   "metadata": {},
   "outputs": [],
   "source": [
    "import os\n",
    "import pathlib\n",
    "from pathlib import Path\n",
    "import fnmatch\n",
    "import shutil\n",
    "from tempfile import TemporaryFile"
   ]
  },
  {
   "cell_type": "markdown",
   "id": "559dc9a5",
   "metadata": {},
   "source": [
    "Getting full current path"
   ]
  },
  {
   "cell_type": "code",
   "execution_count": 6,
   "id": "efdf127f",
   "metadata": {},
   "outputs": [
    {
     "name": "stdout",
     "output_type": "stream",
     "text": [
      "Current Path: C:\\Users\\csm0\\PycharmProjects\\PythonClasses\\2. Python Intermediate\\3. Managing Files\n"
     ]
    }
   ],
   "source": [
    "current_path = os.getcwd()\n",
    "print('Current Path:', current_path)"
   ]
  },
  {
   "cell_type": "markdown",
   "id": "aa5e6d84",
   "metadata": {},
   "source": [
    "Adding the working directory name to the path"
   ]
  },
  {
   "cell_type": "code",
   "execution_count": 7,
   "id": "3688a408",
   "metadata": {},
   "outputs": [
    {
     "name": "stdout",
     "output_type": "stream",
     "text": [
      "\n",
      "Full path of working directory:\n",
      "C:\\Users\\csm0\\PycharmProjects\\PythonClasses\\2. Python Intermediate\\3. Managing Files\\Files_General\n",
      "\n"
     ]
    }
   ],
   "source": [
    "full_directory_path = os.path.join(current_path, 'Files_General')\n",
    "print(f'\\nFull path of working directory:')\n",
    "print(f'{full_directory_path}\\n')"
   ]
  },
  {
   "cell_type": "markdown",
   "id": "e9db255c",
   "metadata": {},
   "source": [
    "Changing current working directory"
   ]
  },
  {
   "cell_type": "code",
   "execution_count": 4,
   "id": "3393f1da",
   "metadata": {},
   "outputs": [
    {
     "ename": "FileNotFoundError",
     "evalue": "[WinError 2] O sistema não pode encontrar o arquivo especificado: 'C:\\\\Users\\\\csm0\\\\PycharmProjects\\\\PythonClasses\\\\2. Python Intermediate\\\\3. Managing Files\\\\Files_General'",
     "output_type": "error",
     "traceback": [
      "\u001b[1;31m---------------------------------------------------------------------------\u001b[0m",
      "\u001b[1;31mFileNotFoundError\u001b[0m                         Traceback (most recent call last)",
      "\u001b[1;32m~\\AppData\\Local\\Temp/ipykernel_24528/1818271817.py\u001b[0m in \u001b[0;36m<module>\u001b[1;34m\u001b[0m\n\u001b[1;32m----> 1\u001b[1;33m \u001b[0mos\u001b[0m\u001b[1;33m.\u001b[0m\u001b[0mchdir\u001b[0m\u001b[1;33m(\u001b[0m\u001b[0mfull_directory_path\u001b[0m\u001b[1;33m)\u001b[0m\u001b[1;33m\u001b[0m\u001b[1;33m\u001b[0m\u001b[0m\n\u001b[0m\u001b[0;32m      2\u001b[0m \u001b[0mcurrent_path\u001b[0m \u001b[1;33m=\u001b[0m \u001b[0mos\u001b[0m\u001b[1;33m.\u001b[0m\u001b[0mgetcwd\u001b[0m\u001b[1;33m(\u001b[0m\u001b[1;33m)\u001b[0m\u001b[1;33m\u001b[0m\u001b[1;33m\u001b[0m\u001b[0m\n\u001b[0;32m      3\u001b[0m \u001b[0mprint\u001b[0m\u001b[1;33m(\u001b[0m\u001b[1;34m'current_path = '\u001b[0m\u001b[1;33m,\u001b[0m \u001b[0mcurrent_path\u001b[0m\u001b[1;33m)\u001b[0m\u001b[1;33m\u001b[0m\u001b[1;33m\u001b[0m\u001b[0m\n",
      "\u001b[1;31mFileNotFoundError\u001b[0m: [WinError 2] O sistema não pode encontrar o arquivo especificado: 'C:\\\\Users\\\\csm0\\\\PycharmProjects\\\\PythonClasses\\\\2. Python Intermediate\\\\3. Managing Files\\\\Files_General'"
     ]
    }
   ],
   "source": [
    "os.chdir(full_directory_path)\n",
    "current_path = os.getcwd()\n",
    "print('current_path = ', current_path)"
   ]
  },
  {
   "cell_type": "markdown",
   "id": "2413b16a",
   "metadata": {},
   "source": [
    "## Writing to and reading from a file"
   ]
  },
  {
   "cell_type": "markdown",
   "id": "3816c65f",
   "metadata": {},
   "source": [
    "### The direct open way"
   ]
  },
  {
   "cell_type": "code",
   "execution_count": null,
   "id": "f7764661",
   "metadata": {},
   "outputs": [],
   "source": [
    "file = 'Dummy_1.txt'\n",
    "file_object = open(file, 'r')\n",
    "data = file_object.read()\n",
    "print(data)\n",
    "file_object.close()"
   ]
  },
  {
   "cell_type": "markdown",
   "id": "e47c9b67",
   "metadata": {},
   "source": [
    "### Python’s “with open(…) as …” Pattern"
   ]
  },
  {
   "cell_type": "code",
   "execution_count": null,
   "id": "af4a2cd7",
   "metadata": {},
   "outputs": [],
   "source": [
    "with open('Dummy_1.txt', 'r') as f:\n",
    "    data = f.read()\n",
    "\n",
    "print(data)"
   ]
  },
  {
   "cell_type": "code",
   "execution_count": null,
   "id": "fedb9558",
   "metadata": {},
   "outputs": [],
   "source": [
    "with open('Dummy_1.txt', 'a') as f:\n",
    "    data = '\\nI am alive!'\n",
    "    f.write(data)\n",
    "    \n",
    "with open('Dummy_1.txt', 'r') as f:\n",
    "    data = f.read()\n",
    "\n",
    "print(data)\n"
   ]
  },
  {
   "cell_type": "code",
   "execution_count": null,
   "id": "820e5d0c",
   "metadata": {},
   "outputs": [],
   "source": [
    "with open('Dummy_1.txt', 'w') as f:\n",
    "    data = \"Hello World!\\nWhat's up?\"\n",
    "    f.write(data)\n",
    "    \n",
    "with open('Dummy_1.txt', 'r') as f:\n",
    "    data = f.read()\n",
    "\n",
    "print(data)"
   ]
  },
  {
   "cell_type": "markdown",
   "id": "8bb1e37d",
   "metadata": {},
   "source": [
    "## Listing sub-directories and files in current working directory"
   ]
  },
  {
   "cell_type": "markdown",
   "id": "a0b1bc8f",
   "metadata": {},
   "source": [
    "### Using \"os.listdir\" (legacy Python versions)\n",
    "\n",
    "\"os.listdir()\" returns a Python list containing the names of the files and subdirectories\n",
    "in the directory given by the path argument:"
   ]
  },
  {
   "cell_type": "code",
   "execution_count": null,
   "id": "9f0ce7f2",
   "metadata": {},
   "outputs": [],
   "source": [
    "print(f'\\nList of directories and files of \\n{current_path}\\n')\n",
    "print(os.listdir(full_directory_path))"
   ]
  },
  {
   "cell_type": "markdown",
   "id": "b1be58fe",
   "metadata": {},
   "source": [
    "---> A directory listing like that isn’t easy to read."
   ]
  },
  {
   "cell_type": "markdown",
   "id": "d78b3d3d",
   "metadata": {},
   "source": [
    "Printing out the output of a call to os.listdir() using a loop helps clean things up:"
   ]
  },
  {
   "cell_type": "code",
   "execution_count": null,
   "id": "f41f7318",
   "metadata": {},
   "outputs": [],
   "source": [
    "print(f'\\nList of directories and files of \\n{current_path}\\n')\n",
    "entries = os.listdir(full_directory_path)\n",
    "for entry in entries:\n",
    "    print(entry)"
   ]
  },
  {
   "cell_type": "markdown",
   "id": "d1068d5d",
   "metadata": {},
   "source": [
    "### Using \"os.scandir\"\n",
    "\n",
    "The \"os.scandir()\" Iterator points to all the entries in the current directory.\n",
    "You can loop over the contents of the iterator and print out the filenames:"
   ]
  },
  {
   "cell_type": "code",
   "execution_count": null,
   "id": "513c67a9",
   "metadata": {},
   "outputs": [],
   "source": [
    "print(f'\\nList of directories and files of \\n{current_path}\\n')\n",
    "with os.scandir(full_directory_path) as entries:\n",
    "    for entry in entries:\n",
    "        print(entry.name)"
   ]
  },
  {
   "cell_type": "markdown",
   "id": "836f3cc0",
   "metadata": {},
   "source": [
    "### using \"pathlib\"\n",
    "\n",
    "\"pathlib.Path()\" objects have an .iterdir() method for creating an iterator of all files and folders in a directory.\n",
    "\n",
    "Each entry yielded by .iterdir() contains information about the file or directory like its name and file attributes.\n",
    "pathlib was first introduced in Python 3.4 and is a great addition to Python that provides an object oriented\n",
    "interface to the filesystem."
   ]
  },
  {
   "cell_type": "code",
   "execution_count": null,
   "id": "0cb9ce85",
   "metadata": {},
   "outputs": [],
   "source": [
    "print(f'\\nList of directories and files of \\n{current_path}\\n')\n",
    "entries = pathlib.Path(full_directory_path)\n",
    "for entry in entries.iterdir():\n",
    "    print(entry.name)"
   ]
  },
  {
   "cell_type": "markdown",
   "id": "4684cd84",
   "metadata": {},
   "source": [
    "## Listing only the files in a directory"
   ]
  },
  {
   "cell_type": "markdown",
   "id": "f96d8c6b",
   "metadata": {},
   "source": [
    "### Using \"os.listdir\" (legacy Python versions)"
   ]
  },
  {
   "cell_type": "code",
   "execution_count": null,
   "id": "59e90a81",
   "metadata": {},
   "outputs": [],
   "source": [
    "print(f'\\nList of files in \\n{current_path}\\n')\n",
    "basepath = full_directory_path\n",
    "print('\\nList: ', os.listdir(basepath), '\\n')\n",
    "print('Items:')\n",
    "for entry in os.listdir(basepath):\n",
    "    if os.path.isfile(os.path.join(basepath, entry)):\n",
    "        print(entry)"
   ]
  },
  {
   "cell_type": "markdown",
   "id": "d5dfdc5c",
   "metadata": {},
   "source": [
    "### Using \"os.scandir\""
   ]
  },
  {
   "cell_type": "code",
   "execution_count": null,
   "id": "c53131a7",
   "metadata": {},
   "outputs": [],
   "source": [
    "print(f'\\nList of files in \\n{current_path}\\n')\n",
    "basepath = full_directory_path\n",
    "print('\\nObject: ', os.scandir(basepath), '\\n')\n",
    "print('Items:')\n",
    "with os.scandir(basepath) as entries:\n",
    "    for entry in entries:\n",
    "        if entry.is_file():\n",
    "            print(entry.name)"
   ]
  },
  {
   "cell_type": "markdown",
   "id": "9c17ae9a",
   "metadata": {},
   "source": [
    "### Using \"pathlib\""
   ]
  },
  {
   "cell_type": "code",
   "execution_count": null,
   "id": "c365053f",
   "metadata": {},
   "outputs": [],
   "source": [
    "print(f'\\nList of files in \\n{current_path}\\n')\n",
    "basepath = Path(full_directory_path)\n",
    "print('\\nObject: ', basepath.iterdir(), '\\n')\n",
    "\n",
    "print('Items:')\n",
    "files_in_basepath = basepath.iterdir()\n",
    "for item in files_in_basepath:\n",
    "    if item.is_file():\n",
    "        print(item.name)"
   ]
  },
  {
   "cell_type": "markdown",
   "id": "6b6e22c3",
   "metadata": {},
   "source": [
    "## Listing only the subdirectories in a directory"
   ]
  },
  {
   "cell_type": "markdown",
   "id": "c766edae",
   "metadata": {},
   "source": [
    "### Using \"os.listdir\" (legacy Python versions)"
   ]
  },
  {
   "cell_type": "code",
   "execution_count": null,
   "id": "20c7d54f",
   "metadata": {},
   "outputs": [],
   "source": [
    "print(f'\\nList of directories in \\n{current_path}\\n')\n",
    "path = full_directory_path\n",
    "print('\\nList: ', os.listdir(path), '\\n')\n",
    "\n",
    "print('Items:')\n",
    "for entry in os.listdir(path):\n",
    "    if os.path.isdir(os.path.join(path, entry)):\n",
    "        print(entry)"
   ]
  },
  {
   "cell_type": "markdown",
   "id": "a9b666f1",
   "metadata": {},
   "source": [
    "### Using \"scandir()\""
   ]
  },
  {
   "cell_type": "code",
   "execution_count": null,
   "id": "bdd91e75",
   "metadata": {},
   "outputs": [],
   "source": [
    "print(f'\\nList of directories in \\n{current_path}\\n')\n",
    "path = full_directory_path\n",
    "print('\\nObject: ', os.scandir(path), '\\n')\n",
    "\n",
    "print('Items:')\n",
    "with os.scandir(path) as entries:\n",
    "    for entry in entries:\n",
    "        if entry.is_dir():\n",
    "            print(entry.name)"
   ]
  },
  {
   "cell_type": "markdown",
   "id": "803a4232",
   "metadata": {},
   "source": [
    "### Using \"pathlib\""
   ]
  },
  {
   "cell_type": "code",
   "execution_count": null,
   "id": "168f1a98",
   "metadata": {},
   "outputs": [],
   "source": [
    "print(f'\\nList of directories in \\n{current_path}\\n')\n",
    "path = Path(full_directory_path)\n",
    "print('\\nObject: ', path.iterdir(), '\\n')\n",
    "\n",
    "print('Items:')\n",
    "for entry in path.iterdir():\n",
    "    if entry.is_dir():\n",
    "        print(entry.name)"
   ]
  },
  {
   "cell_type": "markdown",
   "id": "ce1acb36",
   "metadata": {},
   "source": [
    "## Creating file in Python"
   ]
  },
  {
   "cell_type": "code",
   "execution_count": null,
   "id": "79e76dab",
   "metadata": {
    "scrolled": true
   },
   "outputs": [],
   "source": [
    "file = input('Type file name with extension: ')\n",
    "os.chdir(full_directory_path)\n",
    "f = open(file, 'w')\n",
    "\n",
    "input(f'\\nFile \"{file}\" was created and is open for editing. Press \"Enter\" to close file.')\n",
    "f.close()\n",
    "print(f'\\n\"{file}\" was closed.')"
   ]
  },
  {
   "cell_type": "markdown",
   "id": "a5821979",
   "metadata": {},
   "source": [
    "## Deleting Files in Python"
   ]
  },
  {
   "cell_type": "code",
   "execution_count": null,
   "id": "0aa8bf75",
   "metadata": {},
   "outputs": [],
   "source": [
    "file = input('Type file name with extension: ')\n",
    "os.remove(file)\n",
    "print(f'\\nFile \"{file}\" was deleted.')"
   ]
  },
  {
   "cell_type": "markdown",
   "id": "daaeae85",
   "metadata": {},
   "source": [
    "## Create and delete a directory"
   ]
  },
  {
   "cell_type": "markdown",
   "id": "8a455de2",
   "metadata": {},
   "source": [
    "### Using \"os\""
   ]
  },
  {
   "cell_type": "code",
   "execution_count": null,
   "id": "041c5493",
   "metadata": {},
   "outputs": [],
   "source": [
    "os.chdir(full_directory_path)                # changes current directory\n",
    "subdirectory_name = 'New Directory'\n",
    "os.mkdir(subdirectory_name)\n",
    "\n",
    "input(f'Subdirectory \"{subdirectory_name}\" was created.\\n\\nPress Enter to delete it.')\n",
    "os.rmdir('New Directory')\n",
    "print(f'\\nSubdirectory \"{subdirectory_name}\" was deleted.')"
   ]
  },
  {
   "cell_type": "markdown",
   "id": "4fc0160a",
   "metadata": {},
   "source": [
    "### Using \"pathlib\""
   ]
  },
  {
   "cell_type": "code",
   "execution_count": null,
   "id": "b70d6544",
   "metadata": {},
   "outputs": [],
   "source": [
    "os.chdir(full_directory_path)                # changes current directory\n",
    "# subdirectory_name = 'New Directory/'\n",
    "p = Path('New Directory/')\n",
    "p.mkdir()\n",
    "\n",
    "input(f'Subdirectory \"{subdirectory_name}\" was created.\\n\\nPress Enter to delete it.')\n",
    "Path('New Directory/').rmdir()\n",
    "print(f'\\nSubdirectory \"{subdirectory_name}\" was deleted.')"
   ]
  },
  {
   "cell_type": "markdown",
   "id": "f18510ca",
   "metadata": {},
   "source": [
    "When directory already exists, you may avoid stopping the program due the error using try."
   ]
  },
  {
   "cell_type": "code",
   "execution_count": null,
   "id": "9409812d",
   "metadata": {},
   "outputs": [],
   "source": [
    "os.chdir(full_directory_path)                # changes current directory\n",
    "new_subdir = 'New Directory'\n",
    "p = Path(new_subdir)\n",
    "try:\n",
    "    p.mkdir()\n",
    "    print (f'Subdirectory \"{new_subdir}\" created successfully.')\n",
    "    \n",
    "except FileExistsError as exc:\n",
    "    print(f'Subdirectory \"{new_subdir}\" already exists.')\n"
   ]
  },
  {
   "cell_type": "markdown",
   "id": "d6643bc9",
   "metadata": {},
   "source": [
    "## Creating and deleting multiple directories"
   ]
  },
  {
   "cell_type": "markdown",
   "id": "912fb899",
   "metadata": {},
   "source": [
    "### Using \"os\""
   ]
  },
  {
   "cell_type": "code",
   "execution_count": null,
   "id": "1e9c4d8c",
   "metadata": {},
   "outputs": [],
   "source": [
    "new_branch = '2018/10/05'\n",
    "\n",
    "os.makedirs(new_branch)\n",
    "\n",
    "os.chdir(os.path.join(full_directory_path, new_branch))\n",
    "new_directory = os.getcwd()\n",
    "print(new_directory)\n",
    "\n",
    "input('Subdirectories were created. Press Enter to delete them.')\n",
    "os.chdir(full_directory_path)\n",
    "os.rmdir('2018/10/05')\n",
    "os.rmdir('2018/10')\n",
    "os.rmdir('2018')\n",
    "print('Subdirectories were deleted.')"
   ]
  },
  {
   "cell_type": "markdown",
   "id": "12939729",
   "metadata": {},
   "source": [
    "### using \"pathlib\""
   ]
  },
  {
   "cell_type": "code",
   "execution_count": null,
   "id": "1e310d0e",
   "metadata": {},
   "outputs": [],
   "source": [
    "p = pathlib.Path('2018/10/05')\n",
    "p.mkdir(parents=True)\n",
    "\n",
    "new_directory = os.getcwd()\n",
    "os.chdir(os.path.join(full_directory_path, new_directory))\n",
    "print(new_directory)\n",
    "    \n",
    "input('Subdirectories were created. Press Enter to delete them.')\n",
    "os.chdir(full_directory_path)\n",
    "pathlib.Path('2018/10/05').rmdir()\n",
    "pathlib.Path('2018/10').rmdir()\n",
    "pathlib.Path('2018').rmdir()\n",
    "print('Subdirectories were deleted.')"
   ]
  },
  {
   "cell_type": "markdown",
   "id": "72db5602",
   "metadata": {},
   "source": [
    "obs.: only empty directories may be deleted using \"os.rmdir()."
   ]
  },
  {
   "cell_type": "markdown",
   "id": "f27bb397",
   "metadata": {},
   "source": [
    "To delete directories that may contain dailes or subdiretories \"shutil.rmtree()\" shall be used.\n",
    "\n",
    "#### Warning! \n",
    "In this case all files and subdirectories under the one deleted by \"shutil()\" will also be deleted."
   ]
  },
  {
   "cell_type": "code",
   "execution_count": null,
   "id": "2f772283",
   "metadata": {},
   "outputs": [],
   "source": [
    "new_branch = '2018/10/05'\n",
    "\n",
    "os.makedirs(new_branch)\n",
    "\n",
    "os.chdir(os.path.join(full_directory_path, new_branch))\n",
    "new_directory = os.getcwd()\n",
    "print(new_directory)\n",
    "\n",
    "input('Subdirectories were created. Press Enter to delete them.')\n",
    "os.chdir(full_directory_path)\n",
    "shutil.rmtree('2018')\n",
    "print('Subdirectories and files were deleted.')"
   ]
  },
  {
   "cell_type": "markdown",
   "id": "e90499d0",
   "metadata": {},
   "source": [
    "## Filename pattern matching"
   ]
  },
  {
   "cell_type": "markdown",
   "id": "ef33a4d4",
   "metadata": {},
   "source": [
    "### Using string methods"
   ]
  },
  {
   "cell_type": "code",
   "execution_count": null,
   "id": "6cd0a15e",
   "metadata": {},
   "outputs": [],
   "source": [
    "# Get .txt files\n",
    "print('The following .txt files were found:')\n",
    "for f_name in os.listdir(full_directory_path):\n",
    "    if f_name.endswith('.txt'):\n",
    "        print('->',f_name)"
   ]
  },
  {
   "cell_type": "markdown",
   "id": "1fad1403",
   "metadata": {},
   "source": [
    "### Using \"fnmatch\""
   ]
  },
  {
   "cell_type": "code",
   "execution_count": null,
   "id": "0c227e26",
   "metadata": {},
   "outputs": [],
   "source": [
    "print(f'\\nThe following .txt files were found:')\n",
    "for file_name in os.listdir(full_directory_path):\n",
    "    if fnmatch.fnmatch(file_name, '*.txt'):\n",
    "        print('->',file_name)"
   ]
  },
  {
   "cell_type": "markdown",
   "id": "f4e89062",
   "metadata": {},
   "source": [
    "#### Advanced \"fnmacth\""
   ]
  },
  {
   "cell_type": "code",
   "execution_count": null,
   "id": "7455ffca",
   "metadata": {},
   "outputs": [],
   "source": [
    "name = input('Type search criteria: ' )\n",
    "name_split = name.split('.')\n",
    "\n",
    "print(f'\\nThe following files corresponding to \"{name}\" were found:')\n",
    "for filename in os.listdir(full_directory_path):\n",
    "    if fnmatch.fnmatch(filename, f'{name_split[0]}.{name_split[1]}'):\n",
    "        print('->',filename)"
   ]
  },
  {
   "cell_type": "markdown",
   "id": "0b719d39",
   "metadata": {},
   "source": [
    "## Traversing Directories and Processing Files"
   ]
  },
  {
   "cell_type": "markdown",
   "id": "05b9989b",
   "metadata": {},
   "source": [
    "### Walking a directory tree and printing the names of the directories and files"
   ]
  },
  {
   "cell_type": "code",
   "execution_count": null,
   "id": "64279a40",
   "metadata": {},
   "outputs": [],
   "source": [
    "for dirpath, dirnames, files in os.walk('.'):\n",
    "    print(f'Found directory: {dirpath}')\n",
    "    for file_name in files:\n",
    "        print(file_name)"
   ]
  },
  {
   "cell_type": "markdown",
   "id": "91dd30e3",
   "metadata": {},
   "source": [
    "### Traverse the directory tree in a bottom-up manner"
   ]
  },
  {
   "cell_type": "code",
   "execution_count": null,
   "id": "41639420",
   "metadata": {},
   "outputs": [],
   "source": [
    "for dirpath, dirnames, files in os.walk('.', topdown=False):\n",
    "    print(f'Found directory: {dirpath}')\n",
    "    for file_name in files:\n",
    "        print(file_name)"
   ]
  },
  {
   "cell_type": "markdown",
   "id": "cf5af6d0",
   "metadata": {},
   "source": [
    "This is very useful in situations where you want to recursively delete files and directories."
   ]
  },
  {
   "cell_type": "markdown",
   "id": "785a40ca",
   "metadata": {},
   "source": [
    "## Making Temporary Files and Directories \n",
    "\n",
    "### using \"TemporaryFile\" form \"tempfile\" library"
   ]
  },
  {
   "cell_type": "code",
   "execution_count": null,
   "id": "fbe8f7fd",
   "metadata": {},
   "outputs": [],
   "source": [
    "# Create a temporary file and write some data to it (creates in C:\\Users\\csp1\\AppData\\Local\\Temp)\n",
    "fp = TemporaryFile('w+t')\n",
    "fp.write('Hello universe!')\n",
    "print('Temporary file created in: \"C:/Users/csp1/AppData/Local/Temp\"')\n",
    "\n",
    "\n",
    "# Go back to the beginning and read data from file\n",
    "fp.seek(0)\n",
    "data = fp.read()\n",
    "print('\\n',data,'\\n')\n",
    "\n",
    "input('Press \"Enter\" to delete temporary file and continue.')\n",
    "\n",
    "# Close the file, after which it will be removed\n",
    "fp.close()"
   ]
  },
  {
   "cell_type": "markdown",
   "id": "a0195adc",
   "metadata": {},
   "source": [
    "## Copying, Moving, and Renaming Files and Directories - \"shutil\" Library"
   ]
  },
  {
   "cell_type": "markdown",
   "id": "e82ae315",
   "metadata": {},
   "source": [
    "### Copying Files in Python"
   ]
  },
  {
   "cell_type": "code",
   "execution_count": null,
   "id": "87060c7d",
   "metadata": {},
   "outputs": [],
   "source": [
    "file = input('Input file name (with extension) to copy: ')\n",
    "file_split = file.split('.')\n",
    "src = f'{full_directory_path}\\{file}'\n",
    "dst = f'{full_directory_path}\\{file_split[0]} - Copy.{file_split[1]}'\n",
    "shutil.copy(src, dst)"
   ]
  },
  {
   "cell_type": "markdown",
   "id": "ac811235",
   "metadata": {},
   "source": [
    "### Copying Directories"
   ]
  },
  {
   "cell_type": "code",
   "execution_count": null,
   "id": "bb3731ce",
   "metadata": {},
   "outputs": [],
   "source": [
    "shutil.copytree('Directory 01 - txt', 'Directory 01 - txt - Copy')"
   ]
  },
  {
   "cell_type": "markdown",
   "id": "9c5d35f0",
   "metadata": {},
   "source": [
    "### Moving Files and Directories"
   ]
  },
  {
   "cell_type": "code",
   "execution_count": null,
   "id": "b6295eaf",
   "metadata": {},
   "outputs": [],
   "source": [
    "os.mkdir('Temp')\n",
    "shutil.move('Directory 01 - txt - Copy/', 'Temp/')"
   ]
  },
  {
   "cell_type": "markdown",
   "id": "6c2d4e21",
   "metadata": {},
   "source": [
    "## Renaming Files and Directories"
   ]
  },
  {
   "cell_type": "markdown",
   "id": "6e509fd4",
   "metadata": {},
   "source": [
    "### Using \"os\""
   ]
  },
  {
   "cell_type": "code",
   "execution_count": null,
   "id": "6e353636",
   "metadata": {},
   "outputs": [],
   "source": [
    "os.rename('Dummy_1.txt', 'Dummy_1 - RENAMED.txt')\n",
    "input('File renamed - Press Enter to revert.')\n",
    "os.rename('Dummy_1 - RENAMED.txt', 'Dummy_1.txt')"
   ]
  },
  {
   "cell_type": "markdown",
   "id": "eca20d2e",
   "metadata": {},
   "source": [
    "### Using \"pathlib\""
   ]
  },
  {
   "cell_type": "code",
   "execution_count": null,
   "id": "f8b01ce2",
   "metadata": {},
   "outputs": [],
   "source": [
    "data_file = Path('Dummy_1.txt')\n",
    "data_file.rename('Dummy_1 - RENAMED.txt')\n",
    "input('File renamed - Press Enter to revert.')\n",
    "data_file = Path('Dummy_1 - RENAMED.txt')\n",
    "data_file.rename('Dummy_1.txt')"
   ]
  }
 ],
 "metadata": {
  "kernelspec": {
   "display_name": "Python 3 (ipykernel)",
   "language": "python",
   "name": "python3"
  },
  "language_info": {
   "codemirror_mode": {
    "name": "ipython",
    "version": 3
   },
   "file_extension": ".py",
   "mimetype": "text/x-python",
   "name": "python",
   "nbconvert_exporter": "python",
   "pygments_lexer": "ipython3",
   "version": "3.9.7"
  }
 },
 "nbformat": 4,
 "nbformat_minor": 5
}
